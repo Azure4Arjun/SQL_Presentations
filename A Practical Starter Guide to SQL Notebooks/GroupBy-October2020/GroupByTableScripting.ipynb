﻿{
    "metadata": {
        "kernelspec": {
            "name": "SQL",
            "display_name": "SQL",
            "language": "sql"
        },
        "language_info": {
            "name": "sql",
            "version": ""
        },
        "kernel_spec": {
            "name": "SQL",
            "language": "sql",
            "display_name": "SQL"
        }
    },
    "nbformat_minor": 2,
    "nbformat": 4,
    "cells": [
        {
            "cell_type": "markdown",
            "source": [
                "# [dbo].[Alter_Ego_Person_Temporal_History]"
            ],
            "metadata": {
                "urn": "Server[@Name='SQLNotebooks']/Database[@Name='Superheroes']/Table[@Name='Alter_Ego_Person_Temporal_History' and @Schema='dbo']",
                "object_type": "Table",
                "azdata_cell_guid": "febefeed-cd0a-4e04-bbd5-07326d6d3df0"
            }
        },
        {
            "cell_type": "code",
            "source": [
                "/****** Object:  Table [dbo].[Alter_Ego_Person_Temporal_History]    Script Date: 10/27/2020 10:40:40 AM ******/\r\nSET ANSI_NULLS ON\r\n",
                "GO\r\n",
                "SET QUOTED_IDENTIFIER ON\r\n",
                "GO\r\n",
                "IF NOT EXISTS (SELECT * FROM sys.objects WHERE object_id = OBJECT_ID(N'[dbo].[Alter_Ego_Person_Temporal_History]') AND type in (N'U'))\r\nBEGIN\r\nCREATE TABLE [dbo].[Alter_Ego_Person_Temporal_History](\r\n\t[Alter_Ego_Person_ID] [int] NOT NULL,\r\n\t[Person_ID] [int] NOT NULL,\r\n\t[Alter_Ego_ID] [int] NOT NULL,\r\n\t[Sys_Start_Time] [datetime2](7) NOT NULL,\r\n\t[Sys_End_Time] [datetime2](7) NOT NULL\r\n) ON [PRIMARY]\r\nEND\r\n",
                "GO\r\n",
                "ALTER AUTHORIZATION ON [dbo].[Alter_Ego_Person_Temporal_History] TO  SCHEMA OWNER \r\n",
                "GO\r\n"
            ],
            "metadata": {
                "urn": "Server[@Name='SQLNotebooks']/Database[@Name='Superheroes']/Table[@Name='Alter_Ego_Person_Temporal_History' and @Schema='dbo']",
                "object_type": "Table",
                "azdata_cell_guid": "feafeef2-f044-4250-a756-afb01080d78f"
            },
            "outputs": [],
            "execution_count": null
        },
        {
            "cell_type": "markdown",
            "source": [
                "# [ix_Alter_Ego_Person_Temporal_History]"
            ],
            "metadata": {
                "urn": "Server[@Name='SQLNotebooks']/Database[@Name='Superheroes']/Table[@Name='Alter_Ego_Person_Temporal_History' and @Schema='dbo']/Index[@Name='ix_Alter_Ego_Person_Temporal_History']",
                "object_type": "Index",
                "azdata_cell_guid": "0b232ae1-1969-4caa-9d1b-f6ac7a8b11bc"
            }
        },
        {
            "cell_type": "code",
            "source": [
                "/****** Object:  Index [ix_Alter_Ego_Person_Temporal_History]    Script Date: 10/27/2020 10:40:40 AM ******/\r\nIF NOT EXISTS (SELECT * FROM sys.indexes WHERE object_id = OBJECT_ID(N'[dbo].[Alter_Ego_Person_Temporal_History]') AND name = N'ix_Alter_Ego_Person_Temporal_History')\r\nCREATE CLUSTERED INDEX [ix_Alter_Ego_Person_Temporal_History] ON [dbo].[Alter_Ego_Person_Temporal_History]\r\n(\r\n\t[Sys_End_Time] ASC,\r\n\t[Sys_Start_Time] ASC\r\n)WITH (PAD_INDEX = OFF, STATISTICS_NORECOMPUTE = OFF, SORT_IN_TEMPDB = OFF, DROP_EXISTING = OFF, ONLINE = OFF, ALLOW_ROW_LOCKS = ON, ALLOW_PAGE_LOCKS = ON, OPTIMIZE_FOR_SEQUENTIAL_KEY = OFF) ON [PRIMARY]\r\n",
                "GO\r\n"
            ],
            "metadata": {
                "urn": "Server[@Name='SQLNotebooks']/Database[@Name='Superheroes']/Table[@Name='Alter_Ego_Person_Temporal_History' and @Schema='dbo']/Index[@Name='ix_Alter_Ego_Person_Temporal_History']",
                "object_type": "Index",
                "azdata_cell_guid": "8fb6405f-d9e1-4b5d-af68-fb5407d90f37"
            },
            "outputs": [],
            "execution_count": null
        },
        {
            "cell_type": "markdown",
            "source": [
                "# [dbo].[Alter_Ego_Person]"
            ],
            "metadata": {
                "urn": "Server[@Name='SQLNotebooks']/Database[@Name='Superheroes']/Table[@Name='Alter_Ego_Person' and @Schema='dbo']",
                "object_type": "Table",
                "azdata_cell_guid": "a8a82134-d9d5-4a8d-922a-5d6a841fa6ca"
            }
        },
        {
            "cell_type": "code",
            "source": [
                "/****** Object:  Table [dbo].[Alter_Ego_Person]    Script Date: 10/27/2020 10:40:40 AM ******/\r\nSET ANSI_NULLS ON\r\n",
                "GO\r\n",
                "SET QUOTED_IDENTIFIER ON\r\n",
                "GO\r\n",
                "IF NOT EXISTS (SELECT * FROM sys.objects WHERE object_id = OBJECT_ID(N'[dbo].[Alter_Ego_Person]') AND type in (N'U'))\r\nBEGIN\r\nCREATE TABLE [dbo].[Alter_Ego_Person](\r\n\t[Alter_Ego_Person_ID] [int] IDENTITY(1,1) NOT NULL,\r\n\t[Person_ID] [int] NOT NULL,\r\n\t[Alter_Ego_ID] [int] NOT NULL,\r\n\t[Sys_Start_Time] [datetime2](7) GENERATED ALWAYS AS ROW START NOT NULL,\r\n\t[Sys_End_Time] [datetime2](7) GENERATED ALWAYS AS ROW END NOT NULL,\r\n CONSTRAINT [PK_Alter_Ego_Person] PRIMARY KEY CLUSTERED \r\n(\r\n\t[Alter_Ego_Person_ID] ASC\r\n)WITH (PAD_INDEX = OFF, STATISTICS_NORECOMPUTE = OFF, IGNORE_DUP_KEY = OFF, ALLOW_ROW_LOCKS = ON, ALLOW_PAGE_LOCKS = ON, OPTIMIZE_FOR_SEQUENTIAL_KEY = OFF) ON [PRIMARY],\r\n\tPERIOD FOR SYSTEM_TIME ([Sys_Start_Time], [Sys_End_Time])\r\n) ON [PRIMARY]\r\nWITH\r\n(\r\nSYSTEM_VERSIONING = ON ( HISTORY_TABLE = [dbo].[Alter_Ego_Person_Temporal_History] )\r\n)\r\nEND\r\n",
                "GO\r\n",
                "ALTER AUTHORIZATION ON [dbo].[Alter_Ego_Person] TO  SCHEMA OWNER \r\n",
                "GO\r\n"
            ],
            "metadata": {
                "urn": "Server[@Name='SQLNotebooks']/Database[@Name='Superheroes']/Table[@Name='Alter_Ego_Person' and @Schema='dbo']",
                "object_type": "Table",
                "azdata_cell_guid": "1ac2494b-5dbc-454e-8b02-7299fac09ab4"
            },
            "outputs": [],
            "execution_count": null
        },
        {
            "cell_type": "markdown",
            "source": [
                "# [dbo].[Alter_Ego]"
            ],
            "metadata": {
                "urn": "Server[@Name='SQLNotebooks']/Database[@Name='Superheroes']/Table[@Name='Alter_Ego' and @Schema='dbo']",
                "object_type": "Table",
                "azdata_cell_guid": "257d336a-79e3-4113-ad6c-4f4a12383e88"
            }
        },
        {
            "cell_type": "code",
            "source": [
                "/****** Object:  Table [dbo].[Alter_Ego]    Script Date: 10/27/2020 10:40:40 AM ******/\r\nSET ANSI_NULLS ON\r\n",
                "GO\r\n",
                "SET QUOTED_IDENTIFIER ON\r\n",
                "GO\r\n",
                "IF NOT EXISTS (SELECT * FROM sys.objects WHERE object_id = OBJECT_ID(N'[dbo].[Alter_Ego]') AND type in (N'U'))\r\nBEGIN\r\nCREATE TABLE [dbo].[Alter_Ego](\r\n\t[Alter_Ego_ID] [int] IDENTITY(1,1) NOT NULL,\r\n\t[Alter_Ego_Name] [varchar](50) NOT NULL,\r\n\t[Comic_Universe_ID] [int] NOT NULL,\r\n CONSTRAINT [PK_Alter_Ego] PRIMARY KEY CLUSTERED \r\n(\r\n\t[Alter_Ego_ID] ASC\r\n)WITH (PAD_INDEX = OFF, STATISTICS_NORECOMPUTE = OFF, IGNORE_DUP_KEY = OFF, ALLOW_ROW_LOCKS = ON, ALLOW_PAGE_LOCKS = ON, OPTIMIZE_FOR_SEQUENTIAL_KEY = OFF) ON [PRIMARY]\r\n) ON [PRIMARY]\r\nEND\r\n",
                "GO\r\n",
                "ALTER AUTHORIZATION ON [dbo].[Alter_Ego] TO  SCHEMA OWNER \r\n",
                "GO\r\n"
            ],
            "metadata": {
                "urn": "Server[@Name='SQLNotebooks']/Database[@Name='Superheroes']/Table[@Name='Alter_Ego' and @Schema='dbo']",
                "object_type": "Table",
                "azdata_cell_guid": "653e7f04-a50a-4830-a270-d6f0d6af5f00"
            },
            "outputs": [],
            "execution_count": null
        },
        {
            "cell_type": "markdown",
            "source": [
                "# [dbo].[Alter_Ego_Person_History]"
            ],
            "metadata": {
                "urn": "Server[@Name='SQLNotebooks']/Database[@Name='Superheroes']/Table[@Name='Alter_Ego_Person_History' and @Schema='dbo']",
                "object_type": "Table",
                "azdata_cell_guid": "6eed019f-1f26-4cdf-94c3-d43e32291360"
            }
        },
        {
            "cell_type": "code",
            "source": [
                "/****** Object:  Table [dbo].[Alter_Ego_Person_History]    Script Date: 10/27/2020 10:40:40 AM ******/\r\nSET ANSI_NULLS ON\r\n",
                "GO\r\n",
                "SET QUOTED_IDENTIFIER ON\r\n",
                "GO\r\n",
                "IF NOT EXISTS (SELECT * FROM sys.objects WHERE object_id = OBJECT_ID(N'[dbo].[Alter_Ego_Person_History]') AND type in (N'U'))\r\nBEGIN\r\nCREATE TABLE [dbo].[Alter_Ego_Person_History](\r\n\t[Alter_Ego_Person_History_ID] [int] IDENTITY(1,1) NOT NULL,\r\n\t[History_Date] [datetime] NOT NULL,\r\n\t[ChangeType] [char](1) NOT NULL,\r\n\t[Old_Alter_Ego_ID] [int] NULL,\r\n\t[Old_Person_ID] [int] NULL,\r\n\t[New_Alter_Ego_ID] [int] NULL,\r\n\t[New_Person_ID] [int] NULL,\r\n CONSTRAINT [PK_Alter_Ego_Person_History] PRIMARY KEY CLUSTERED \r\n(\r\n\t[Alter_Ego_Person_History_ID] ASC\r\n)WITH (PAD_INDEX = OFF, STATISTICS_NORECOMPUTE = OFF, IGNORE_DUP_KEY = OFF, ALLOW_ROW_LOCKS = ON, ALLOW_PAGE_LOCKS = ON, OPTIMIZE_FOR_SEQUENTIAL_KEY = OFF) ON [PRIMARY]\r\n) ON [PRIMARY]\r\nEND\r\n",
                "GO\r\n",
                "ALTER AUTHORIZATION ON [dbo].[Alter_Ego_Person_History] TO  SCHEMA OWNER \r\n",
                "GO\r\n"
            ],
            "metadata": {
                "urn": "Server[@Name='SQLNotebooks']/Database[@Name='Superheroes']/Table[@Name='Alter_Ego_Person_History' and @Schema='dbo']",
                "object_type": "Table",
                "azdata_cell_guid": "3533f847-abca-47a5-96f2-91d3338f92e2"
            },
            "outputs": [],
            "execution_count": null
        },
        {
            "cell_type": "markdown",
            "source": [
                "# [dbo].[Comic_Universe]"
            ],
            "metadata": {
                "urn": "Server[@Name='SQLNotebooks']/Database[@Name='Superheroes']/Table[@Name='Comic_Universe' and @Schema='dbo']",
                "object_type": "Table",
                "azdata_cell_guid": "ef5da86b-0add-4459-9f9c-0c976165a4ea"
            }
        },
        {
            "cell_type": "code",
            "source": [
                "/****** Object:  Table [dbo].[Comic_Universe]    Script Date: 10/27/2020 10:40:40 AM ******/\r\nSET ANSI_NULLS ON\r\n",
                "GO\r\n",
                "SET QUOTED_IDENTIFIER ON\r\n",
                "GO\r\n",
                "IF NOT EXISTS (SELECT * FROM sys.objects WHERE object_id = OBJECT_ID(N'[dbo].[Comic_Universe]') AND type in (N'U'))\r\nBEGIN\r\nCREATE TABLE [dbo].[Comic_Universe](\r\n\t[Comic_Universe_ID] [int] IDENTITY(1,1) NOT NULL,\r\n\t[Comic_Universe_Name] [varchar](50) NOT NULL,\r\n CONSTRAINT [PK_Comic_Universe] PRIMARY KEY CLUSTERED \r\n(\r\n\t[Comic_Universe_ID] ASC\r\n)WITH (PAD_INDEX = OFF, STATISTICS_NORECOMPUTE = OFF, IGNORE_DUP_KEY = OFF, ALLOW_ROW_LOCKS = ON, ALLOW_PAGE_LOCKS = ON, OPTIMIZE_FOR_SEQUENTIAL_KEY = OFF) ON [PRIMARY]\r\n) ON [PRIMARY]\r\nEND\r\n",
                "GO\r\n",
                "ALTER AUTHORIZATION ON [dbo].[Comic_Universe] TO  SCHEMA OWNER \r\n",
                "GO\r\n"
            ],
            "metadata": {
                "urn": "Server[@Name='SQLNotebooks']/Database[@Name='Superheroes']/Table[@Name='Comic_Universe' and @Schema='dbo']",
                "object_type": "Table",
                "azdata_cell_guid": "fc287511-cc5e-4a78-9ceb-6d181f3ee35a"
            },
            "outputs": [],
            "execution_count": null
        },
        {
            "cell_type": "markdown",
            "source": [
                "# [dbo].[Corporation]"
            ],
            "metadata": {
                "urn": "Server[@Name='SQLNotebooks']/Database[@Name='Superheroes']/Table[@Name='Corporation' and @Schema='dbo']",
                "object_type": "Table",
                "azdata_cell_guid": "728c8068-e64d-4fef-85c4-8f815a69ab69"
            }
        },
        {
            "cell_type": "code",
            "source": [
                "/****** Object:  Table [dbo].[Corporation]    Script Date: 10/27/2020 10:40:40 AM ******/\r\nSET ANSI_NULLS ON\r\n",
                "GO\r\n",
                "SET QUOTED_IDENTIFIER ON\r\n",
                "GO\r\n",
                "IF NOT EXISTS (SELECT * FROM sys.objects WHERE object_id = OBJECT_ID(N'[dbo].[Corporation]') AND type in (N'U'))\r\nBEGIN\r\nCREATE TABLE [dbo].[Corporation](\r\n\t[Corporation_ID] [int] IDENTITY(1,1) NOT NULL,\r\n\t[Corporation_Name] [varchar](50) NOT NULL,\r\n CONSTRAINT [PK_Corporation] PRIMARY KEY CLUSTERED \r\n(\r\n\t[Corporation_ID] ASC\r\n)WITH (PAD_INDEX = OFF, STATISTICS_NORECOMPUTE = OFF, IGNORE_DUP_KEY = OFF, ALLOW_ROW_LOCKS = ON, ALLOW_PAGE_LOCKS = ON, OPTIMIZE_FOR_SEQUENTIAL_KEY = OFF) ON [PRIMARY]\r\n) ON [PRIMARY]\r\nEND\r\n",
                "GO\r\n",
                "ALTER AUTHORIZATION ON [dbo].[Corporation] TO  SCHEMA OWNER \r\n",
                "GO\r\n"
            ],
            "metadata": {
                "urn": "Server[@Name='SQLNotebooks']/Database[@Name='Superheroes']/Table[@Name='Corporation' and @Schema='dbo']",
                "object_type": "Table",
                "azdata_cell_guid": "df4f8a18-7697-40f0-8c20-b2c58c320e7f"
            },
            "outputs": [],
            "execution_count": null
        },
        {
            "cell_type": "markdown",
            "source": [
                "# [dbo].[ETL_Error_Log]"
            ],
            "metadata": {
                "urn": "Server[@Name='SQLNotebooks']/Database[@Name='Superheroes']/Table[@Name='ETL_Error_Log' and @Schema='dbo']",
                "object_type": "Table",
                "azdata_cell_guid": "ec3c4f00-43b3-416e-87e2-1588fc60f530"
            }
        },
        {
            "cell_type": "code",
            "source": [
                "/****** Object:  Table [dbo].[ETL_Error_Log]    Script Date: 10/27/2020 10:40:40 AM ******/\r\nSET ANSI_NULLS ON\r\n",
                "GO\r\n",
                "SET QUOTED_IDENTIFIER ON\r\n",
                "GO\r\n",
                "IF NOT EXISTS (SELECT * FROM sys.objects WHERE object_id = OBJECT_ID(N'[dbo].[ETL_Error_Log]') AND type in (N'U'))\r\nBEGIN\r\nCREATE TABLE [dbo].[ETL_Error_Log](\r\n\t[ETL_Error_Log_ID] [int] IDENTITY(1,1) NOT NULL,\r\n\t[Error_Description] [varchar](500) NULL,\r\n\t[CSV_Data] [varchar](1000) NULL,\r\n\t[Error_Timestamp] [datetime] NULL,\r\n CONSTRAINT [PK_ETL_Error_Log] PRIMARY KEY CLUSTERED \r\n(\r\n\t[ETL_Error_Log_ID] ASC\r\n)WITH (PAD_INDEX = OFF, STATISTICS_NORECOMPUTE = OFF, IGNORE_DUP_KEY = OFF, ALLOW_ROW_LOCKS = ON, ALLOW_PAGE_LOCKS = ON, OPTIMIZE_FOR_SEQUENTIAL_KEY = OFF) ON [PRIMARY]\r\n) ON [PRIMARY]\r\nEND\r\n",
                "GO\r\n",
                "ALTER AUTHORIZATION ON [dbo].[ETL_Error_Log] TO  SCHEMA OWNER \r\n",
                "GO\r\n"
            ],
            "metadata": {
                "urn": "Server[@Name='SQLNotebooks']/Database[@Name='Superheroes']/Table[@Name='ETL_Error_Log' and @Schema='dbo']",
                "object_type": "Table",
                "azdata_cell_guid": "a8f57747-6dee-4709-9434-efcf8df4b7e8"
            },
            "outputs": [],
            "execution_count": null
        },
        {
            "cell_type": "markdown",
            "source": [
                "# [dbo].[Gadget]"
            ],
            "metadata": {
                "urn": "Server[@Name='SQLNotebooks']/Database[@Name='Superheroes']/Table[@Name='Gadget' and @Schema='dbo']",
                "object_type": "Table",
                "azdata_cell_guid": "c0738bfa-64f0-4f8b-a3f0-c04cfe6b2b39"
            }
        },
        {
            "cell_type": "code",
            "source": [
                "/****** Object:  Table [dbo].[Gadget]    Script Date: 10/27/2020 10:40:40 AM ******/\r\nSET ANSI_NULLS ON\r\n",
                "GO\r\n",
                "SET QUOTED_IDENTIFIER ON\r\n",
                "GO\r\n",
                "IF NOT EXISTS (SELECT * FROM sys.objects WHERE object_id = OBJECT_ID(N'[dbo].[Gadget]') AND type in (N'U'))\r\nBEGIN\r\nCREATE TABLE [dbo].[Gadget](\r\n\t[Gadget_ID] [int] IDENTITY(1,1) NOT NULL,\r\n\t[Gadget_Name] [varchar](50) NOT NULL,\r\n\t[Gadget_Desc] [varchar](254) NULL,\r\n CONSTRAINT [PK_Gadget] PRIMARY KEY CLUSTERED \r\n(\r\n\t[Gadget_ID] ASC\r\n)WITH (PAD_INDEX = OFF, STATISTICS_NORECOMPUTE = OFF, IGNORE_DUP_KEY = OFF, ALLOW_ROW_LOCKS = ON, ALLOW_PAGE_LOCKS = ON, OPTIMIZE_FOR_SEQUENTIAL_KEY = OFF) ON [PRIMARY]\r\n) ON [PRIMARY]\r\nEND\r\n",
                "GO\r\n",
                "ALTER AUTHORIZATION ON [dbo].[Gadget] TO  SCHEMA OWNER \r\n",
                "GO\r\n"
            ],
            "metadata": {
                "urn": "Server[@Name='SQLNotebooks']/Database[@Name='Superheroes']/Table[@Name='Gadget' and @Schema='dbo']",
                "object_type": "Table",
                "azdata_cell_guid": "d98e7a0f-3111-4425-a9f5-59c47064affc"
            },
            "outputs": [],
            "execution_count": null
        },
        {
            "cell_type": "markdown",
            "source": [
                "# [dbo].[Gadget_Order_Form]"
            ],
            "metadata": {
                "urn": "Server[@Name='SQLNotebooks']/Database[@Name='Superheroes']/Table[@Name='Gadget_Order_Form' and @Schema='dbo']",
                "object_type": "Table",
                "azdata_cell_guid": "56d8e36b-14af-4e38-8ce9-787f258671ea"
            }
        },
        {
            "cell_type": "code",
            "source": [
                "/****** Object:  Table [dbo].[Gadget_Order_Form]    Script Date: 10/27/2020 10:40:40 AM ******/\r\nSET ANSI_NULLS ON\r\n",
                "GO\r\n",
                "SET QUOTED_IDENTIFIER ON\r\n",
                "GO\r\n",
                "IF NOT EXISTS (SELECT * FROM sys.objects WHERE object_id = OBJECT_ID(N'[dbo].[Gadget_Order_Form]') AND type in (N'U'))\r\nBEGIN\r\nCREATE TABLE [dbo].[Gadget_Order_Form](\r\n\t[Order_ID] [int] IDENTITY(1,1) NOT NULL,\r\n\t[Order_Date] [datetime] NOT NULL,\r\n\t[Person_ID] [int] NOT NULL,\r\n\t[Corporation_ID] [int] NULL,\r\n\t[Gadget_ID] [int] NOT NULL,\r\n\t[Number_Ordered] [int] NOT NULL,\r\n\t[Price_Per_Item] [numeric](19, 2) NOT NULL,\r\n\t[Tax] [numeric](19, 2) NOT NULL,\r\n\t[Shipping] [numeric](19, 2) NOT NULL,\r\n\t[Total_Due] [numeric](19, 2) NOT NULL,\r\n CONSTRAINT [PK_Gadget_Order_Form] PRIMARY KEY CLUSTERED \r\n(\r\n\t[Order_ID] ASC\r\n)WITH (PAD_INDEX = OFF, STATISTICS_NORECOMPUTE = OFF, IGNORE_DUP_KEY = OFF, ALLOW_ROW_LOCKS = ON, ALLOW_PAGE_LOCKS = ON, OPTIMIZE_FOR_SEQUENTIAL_KEY = OFF) ON [PRIMARY]\r\n) ON [PRIMARY]\r\nEND\r\n",
                "GO\r\n",
                "ALTER AUTHORIZATION ON [dbo].[Gadget_Order_Form] TO  SCHEMA OWNER \r\n",
                "GO\r\n"
            ],
            "metadata": {
                "urn": "Server[@Name='SQLNotebooks']/Database[@Name='Superheroes']/Table[@Name='Gadget_Order_Form' and @Schema='dbo']",
                "object_type": "Table",
                "azdata_cell_guid": "a26bd31f-e183-4161-a2cb-b24550c4dc02"
            },
            "outputs": [],
            "execution_count": null
        },
        {
            "cell_type": "markdown",
            "source": [
                "# [dbo].[Good_Deed_History]"
            ],
            "metadata": {
                "urn": "Server[@Name='SQLNotebooks']/Database[@Name='Superheroes']/Table[@Name='Good_Deed_History' and @Schema='dbo']",
                "object_type": "Table",
                "azdata_cell_guid": "41800f1b-4ee9-455c-bdfa-d0e112af250e"
            }
        },
        {
            "cell_type": "code",
            "source": [
                "/****** Object:  Table [dbo].[Good_Deed_History]    Script Date: 10/27/2020 10:40:40 AM ******/\r\nSET ANSI_NULLS ON\r\n",
                "GO\r\n",
                "SET QUOTED_IDENTIFIER ON\r\n",
                "GO\r\n",
                "IF NOT EXISTS (SELECT * FROM sys.objects WHERE object_id = OBJECT_ID(N'[dbo].[Good_Deed_History]') AND type in (N'U'))\r\nBEGIN\r\nCREATE TABLE [dbo].[Good_Deed_History](\r\n\t[Good_Deed_History_ID] [int] IDENTITY(1,1) NOT NULL,\r\n\t[Good_Deed_Type_ID] [tinyint] NULL,\r\n\t[Good_Deed_Person_ID] [int] NULL,\r\n\t[Good_Deed_Description] [varchar](250) NULL,\r\n\t[Good_Deed_Timestamp] [datetime] NULL,\r\n CONSTRAINT [PK_Good_Deed_History] PRIMARY KEY CLUSTERED \r\n(\r\n\t[Good_Deed_History_ID] ASC\r\n)WITH (PAD_INDEX = OFF, STATISTICS_NORECOMPUTE = OFF, IGNORE_DUP_KEY = OFF, ALLOW_ROW_LOCKS = ON, ALLOW_PAGE_LOCKS = ON, OPTIMIZE_FOR_SEQUENTIAL_KEY = OFF) ON [PRIMARY]\r\n) ON [PRIMARY]\r\nEND\r\n",
                "GO\r\n",
                "ALTER AUTHORIZATION ON [dbo].[Good_Deed_History] TO  SCHEMA OWNER \r\n",
                "GO\r\n"
            ],
            "metadata": {
                "urn": "Server[@Name='SQLNotebooks']/Database[@Name='Superheroes']/Table[@Name='Good_Deed_History' and @Schema='dbo']",
                "object_type": "Table",
                "azdata_cell_guid": "14e09d8f-57bc-454a-8538-7bb1ac42fa67"
            },
            "outputs": [],
            "execution_count": null
        },
        {
            "cell_type": "markdown",
            "source": [
                "# [dbo].[Good_Deed_Type]"
            ],
            "metadata": {
                "urn": "Server[@Name='SQLNotebooks']/Database[@Name='Superheroes']/Table[@Name='Good_Deed_Type' and @Schema='dbo']",
                "object_type": "Table",
                "azdata_cell_guid": "02c3631c-4825-4823-94ee-3b4506ccc043"
            }
        },
        {
            "cell_type": "code",
            "source": [
                "/****** Object:  Table [dbo].[Good_Deed_Type]    Script Date: 10/27/2020 10:40:40 AM ******/\r\nSET ANSI_NULLS ON\r\n",
                "GO\r\n",
                "SET QUOTED_IDENTIFIER ON\r\n",
                "GO\r\n",
                "IF NOT EXISTS (SELECT * FROM sys.objects WHERE object_id = OBJECT_ID(N'[dbo].[Good_Deed_Type]') AND type in (N'U'))\r\nBEGIN\r\nCREATE TABLE [dbo].[Good_Deed_Type](\r\n\t[Good_Deed_Type_ID] [tinyint] IDENTITY(1,1) NOT NULL,\r\n\t[Good_Deed_Type_Name] [varchar](50) NULL,\r\n CONSTRAINT [PK_Good_Deed_Type] PRIMARY KEY CLUSTERED \r\n(\r\n\t[Good_Deed_Type_ID] ASC\r\n)WITH (PAD_INDEX = OFF, STATISTICS_NORECOMPUTE = OFF, IGNORE_DUP_KEY = OFF, ALLOW_ROW_LOCKS = ON, ALLOW_PAGE_LOCKS = ON, OPTIMIZE_FOR_SEQUENTIAL_KEY = OFF) ON [PRIMARY]\r\n) ON [PRIMARY]\r\nEND\r\n",
                "GO\r\n",
                "ALTER AUTHORIZATION ON [dbo].[Good_Deed_Type] TO  SCHEMA OWNER \r\n",
                "GO\r\n"
            ],
            "metadata": {
                "urn": "Server[@Name='SQLNotebooks']/Database[@Name='Superheroes']/Table[@Name='Good_Deed_Type' and @Schema='dbo']",
                "object_type": "Table",
                "azdata_cell_guid": "c29d940a-8e46-49d8-8b0a-928e41d87778"
            },
            "outputs": [],
            "execution_count": null
        },
        {
            "cell_type": "markdown",
            "source": [
                "# [dbo].[MSSQL_TemporalHistoryFor_725577623]"
            ],
            "metadata": {
                "urn": "Server[@Name='SQLNotebooks']/Database[@Name='Superheroes']/Table[@Name='MSSQL_TemporalHistoryFor_725577623' and @Schema='dbo']",
                "object_type": "Table",
                "azdata_cell_guid": "3a3bd828-b55d-4d7e-8ef4-9fcf7a4df408"
            }
        },
        {
            "cell_type": "code",
            "source": [
                "/****** Object:  Table [dbo].[MSSQL_TemporalHistoryFor_725577623]    Script Date: 10/27/2020 10:40:40 AM ******/\r\nSET ANSI_NULLS ON\r\n",
                "GO\r\n",
                "SET QUOTED_IDENTIFIER ON\r\n",
                "GO\r\n",
                "IF NOT EXISTS (SELECT * FROM sys.objects WHERE object_id = OBJECT_ID(N'[dbo].[MSSQL_TemporalHistoryFor_725577623]') AND type in (N'U'))\r\nBEGIN\r\nCREATE TABLE [dbo].[MSSQL_TemporalHistoryFor_725577623](\r\n\t[Alter_Ego_Person_ID] [int] NOT NULL,\r\n\t[Person_ID] [int] NOT NULL,\r\n\t[Alter_Ego_ID] [int] NOT NULL,\r\n\t[Sys_Start_Time] [datetime2](7) NOT NULL,\r\n\t[Sys_End_Time] [datetime2](7) NOT NULL\r\n) ON [PRIMARY]\r\nEND\r\n",
                "GO\r\n",
                "ALTER AUTHORIZATION ON [dbo].[MSSQL_TemporalHistoryFor_725577623] TO  SCHEMA OWNER \r\n",
                "GO\r\n"
            ],
            "metadata": {
                "urn": "Server[@Name='SQLNotebooks']/Database[@Name='Superheroes']/Table[@Name='MSSQL_TemporalHistoryFor_725577623' and @Schema='dbo']",
                "object_type": "Table",
                "azdata_cell_guid": "d73b435a-c9b7-4ed4-bbda-2e53d6f35334"
            },
            "outputs": [],
            "execution_count": null
        },
        {
            "cell_type": "markdown",
            "source": [
                "# [ix_MSSQL_TemporalHistoryFor_725577623]"
            ],
            "metadata": {
                "urn": "Server[@Name='SQLNotebooks']/Database[@Name='Superheroes']/Table[@Name='MSSQL_TemporalHistoryFor_725577623' and @Schema='dbo']/Index[@Name='ix_MSSQL_TemporalHistoryFor_725577623']",
                "object_type": "Index",
                "azdata_cell_guid": "5e540fde-dd34-40b5-a518-383f6a317122"
            }
        },
        {
            "cell_type": "code",
            "source": [
                "/****** Object:  Index [ix_MSSQL_TemporalHistoryFor_725577623]    Script Date: 10/27/2020 10:40:40 AM ******/\r\nIF NOT EXISTS (SELECT * FROM sys.indexes WHERE object_id = OBJECT_ID(N'[dbo].[MSSQL_TemporalHistoryFor_725577623]') AND name = N'ix_MSSQL_TemporalHistoryFor_725577623')\r\nCREATE CLUSTERED INDEX [ix_MSSQL_TemporalHistoryFor_725577623] ON [dbo].[MSSQL_TemporalHistoryFor_725577623]\r\n(\r\n\t[Sys_End_Time] ASC,\r\n\t[Sys_Start_Time] ASC\r\n)WITH (PAD_INDEX = OFF, STATISTICS_NORECOMPUTE = OFF, SORT_IN_TEMPDB = OFF, DROP_EXISTING = OFF, ONLINE = OFF, ALLOW_ROW_LOCKS = ON, ALLOW_PAGE_LOCKS = ON, OPTIMIZE_FOR_SEQUENTIAL_KEY = OFF) ON [PRIMARY]\r\n",
                "GO\r\n"
            ],
            "metadata": {
                "urn": "Server[@Name='SQLNotebooks']/Database[@Name='Superheroes']/Table[@Name='MSSQL_TemporalHistoryFor_725577623' and @Schema='dbo']/Index[@Name='ix_MSSQL_TemporalHistoryFor_725577623']",
                "object_type": "Index",
                "azdata_cell_guid": "b241d819-0555-4b23-83c4-5a0754be6e0b"
            },
            "outputs": [],
            "execution_count": null
        },
        {
            "cell_type": "markdown",
            "source": [
                "# [dbo].[Person]"
            ],
            "metadata": {
                "urn": "Server[@Name='SQLNotebooks']/Database[@Name='Superheroes']/Table[@Name='Person' and @Schema='dbo']",
                "object_type": "Table",
                "azdata_cell_guid": "213003f1-a23e-4a00-82ac-0044942f7cf8"
            }
        },
        {
            "cell_type": "code",
            "source": [
                "/****** Object:  Table [dbo].[Person]    Script Date: 10/27/2020 10:40:40 AM ******/\r\nSET ANSI_NULLS ON\r\n",
                "GO\r\n",
                "SET QUOTED_IDENTIFIER ON\r\n",
                "GO\r\n",
                "IF NOT EXISTS (SELECT * FROM sys.objects WHERE object_id = OBJECT_ID(N'[dbo].[Person]') AND type in (N'U'))\r\nBEGIN\r\nCREATE TABLE [dbo].[Person](\r\n\t[Person_ID] [int] IDENTITY(1,1) NOT NULL,\r\n\t[First_Name] [varchar](50) NOT NULL,\r\n\t[Last_Name] [varchar](50) NOT NULL,\r\n CONSTRAINT [PK_Person] PRIMARY KEY CLUSTERED \r\n(\r\n\t[Person_ID] ASC\r\n)WITH (PAD_INDEX = OFF, STATISTICS_NORECOMPUTE = OFF, IGNORE_DUP_KEY = OFF, ALLOW_ROW_LOCKS = ON, ALLOW_PAGE_LOCKS = ON, OPTIMIZE_FOR_SEQUENTIAL_KEY = OFF) ON [PRIMARY]\r\n) ON [PRIMARY]\r\nEND\r\n",
                "GO\r\n",
                "ALTER AUTHORIZATION ON [dbo].[Person] TO  SCHEMA OWNER \r\n",
                "GO\r\n"
            ],
            "metadata": {
                "urn": "Server[@Name='SQLNotebooks']/Database[@Name='Superheroes']/Table[@Name='Person' and @Schema='dbo']",
                "object_type": "Table",
                "azdata_cell_guid": "362ebe4c-7712-462f-a9ac-d015e6a9a160"
            },
            "outputs": [],
            "execution_count": null
        },
        {
            "cell_type": "markdown",
            "source": [
                "# [dbo].[Alter_Ego]"
            ],
            "metadata": {
                "urn": "Server[@Name='SQLNotebooks']/Database[@Name='Superheroes']/Table[@Name='Alter_Ego' and @Schema='dbo']",
                "object_type": "Table",
                "azdata_cell_guid": "0553763c-6c6b-46c0-bcee-63776e1c72ee"
            }
        },
        {
            "cell_type": "code",
            "source": [
                "SET IDENTITY_INSERT [dbo].[Alter_Ego] ON \r\n",
                "INSERT [dbo].[Alter_Ego] ([Alter_Ego_ID], [Alter_Ego_Name], [Comic_Universe_ID]) VALUES (1, N'Average Citizen', 1)\r\n",
                "INSERT [dbo].[Alter_Ego] ([Alter_Ego_ID], [Alter_Ego_Name], [Comic_Universe_ID]) VALUES (2, N'Black Widow', 2)\r\n",
                "INSERT [dbo].[Alter_Ego] ([Alter_Ego_ID], [Alter_Ego_Name], [Comic_Universe_ID]) VALUES (3, N'Spider Girl', 2)\r\n",
                "INSERT [dbo].[Alter_Ego] ([Alter_Ego_ID], [Alter_Ego_Name], [Comic_Universe_ID]) VALUES (5, N'Catwoman', 3)\r\n",
                "INSERT [dbo].[Alter_Ego] ([Alter_Ego_ID], [Alter_Ego_Name], [Comic_Universe_ID]) VALUES (6, N'Super Girl', 3)\r\n",
                "INSERT [dbo].[Alter_Ego] ([Alter_Ego_ID], [Alter_Ego_Name], [Comic_Universe_ID]) VALUES (7, N'Wonder Woman', 3)\r\n",
                "SET IDENTITY_INSERT [dbo].[Alter_Ego] OFF\r\n",
                "GO\r\n"
            ],
            "metadata": {
                "urn": "Server[@Name='SQLNotebooks']/Database[@Name='Superheroes']/Table[@Name='Alter_Ego' and @Schema='dbo']",
                "object_type": "Table",
                "azdata_cell_guid": "579761bd-ec52-4440-8a9c-4e6eaac29373"
            },
            "outputs": [],
            "execution_count": null
        },
        {
            "cell_type": "markdown",
            "source": [
                "# [dbo].[Alter_Ego_Person]"
            ],
            "metadata": {
                "urn": "Server[@Name='SQLNotebooks']/Database[@Name='Superheroes']/Table[@Name='Alter_Ego_Person' and @Schema='dbo']",
                "object_type": "Table",
                "azdata_cell_guid": "e55249b7-d9c8-48a1-b7e2-41eab625fced"
            }
        },
        {
            "cell_type": "code",
            "source": [
                "SET IDENTITY_INSERT [dbo].[Alter_Ego_Person] ON \r\n",
                "INSERT [dbo].[Alter_Ego_Person] ([Alter_Ego_Person_ID], [Person_ID], [Alter_Ego_ID], [Sys_Start_Time], [Sys_End_Time]) VALUES (1, 1, 1, CAST(N'1900-01-01T00:00:00.0000000' AS DateTime2), CAST(N'9999-12-31T23:59:59.9999999' AS DateTime2))\r\n",
                "INSERT [dbo].[Alter_Ego_Person] ([Alter_Ego_Person_ID], [Person_ID], [Alter_Ego_ID], [Sys_Start_Time], [Sys_End_Time]) VALUES (3, 3, 7, CAST(N'2020-10-27T02:54:37.5082341' AS DateTime2), CAST(N'9999-12-31T23:59:59.9999999' AS DateTime2))\r\n",
                "INSERT [dbo].[Alter_Ego_Person] ([Alter_Ego_Person_ID], [Person_ID], [Alter_Ego_ID], [Sys_Start_Time], [Sys_End_Time]) VALUES (4, 4, 6, CAST(N'2020-10-27T01:38:20.4090519' AS DateTime2), CAST(N'9999-12-31T23:59:59.9999999' AS DateTime2))\r\n",
                "INSERT [dbo].[Alter_Ego_Person] ([Alter_Ego_Person_ID], [Person_ID], [Alter_Ego_ID], [Sys_Start_Time], [Sys_End_Time]) VALUES (5, 5, 5, CAST(N'2020-10-27T01:38:20.4173076' AS DateTime2), CAST(N'9999-12-31T23:59:59.9999999' AS DateTime2))\r\n",
                "INSERT [dbo].[Alter_Ego_Person] ([Alter_Ego_Person_ID], [Person_ID], [Alter_Ego_ID], [Sys_Start_Time], [Sys_End_Time]) VALUES (6, 6, 3, CAST(N'2020-10-27T01:38:20.4213994' AS DateTime2), CAST(N'9999-12-31T23:59:59.9999999' AS DateTime2))\r\n",
                "INSERT [dbo].[Alter_Ego_Person] ([Alter_Ego_Person_ID], [Person_ID], [Alter_Ego_ID], [Sys_Start_Time], [Sys_End_Time]) VALUES (7, 7, 2, CAST(N'2020-10-27T01:38:20.4297381' AS DateTime2), CAST(N'9999-12-31T23:59:59.9999999' AS DateTime2))\r\n",
                "INSERT [dbo].[Alter_Ego_Person] ([Alter_Ego_Person_ID], [Person_ID], [Alter_Ego_ID], [Sys_Start_Time], [Sys_End_Time]) VALUES (8, 8, 8, CAST(N'1900-01-01T00:00:00.0000000' AS DateTime2), CAST(N'9999-12-31T23:59:59.9999999' AS DateTime2))\r\n",
                "INSERT [dbo].[Alter_Ego_Person] ([Alter_Ego_Person_ID], [Person_ID], [Alter_Ego_ID], [Sys_Start_Time], [Sys_End_Time]) VALUES (12, 12, 1, CAST(N'2020-10-27T02:54:37.4747119' AS DateTime2), CAST(N'9999-12-31T23:59:59.9999999' AS DateTime2))\r\n",
                "INSERT [dbo].[Alter_Ego_Person] ([Alter_Ego_Person_ID], [Person_ID], [Alter_Ego_ID], [Sys_Start_Time], [Sys_End_Time]) VALUES (13, 19, 1, CAST(N'2020-10-27T03:03:45.4752615' AS DateTime2), CAST(N'9999-12-31T23:59:59.9999999' AS DateTime2))\r\n",
                "INSERT [dbo].[Alter_Ego_Person] ([Alter_Ego_Person_ID], [Person_ID], [Alter_Ego_ID], [Sys_Start_Time], [Sys_End_Time]) VALUES (14, 18, 1, CAST(N'2020-10-27T03:03:45.4752615' AS DateTime2), CAST(N'9999-12-31T23:59:59.9999999' AS DateTime2))\r\n",
                "INSERT [dbo].[Alter_Ego_Person] ([Alter_Ego_Person_ID], [Person_ID], [Alter_Ego_ID], [Sys_Start_Time], [Sys_End_Time]) VALUES (15, 17, 1, CAST(N'2020-10-27T03:03:45.4752615' AS DateTime2), CAST(N'9999-12-31T23:59:59.9999999' AS DateTime2))\r\n",
                "INSERT [dbo].[Alter_Ego_Person] ([Alter_Ego_Person_ID], [Person_ID], [Alter_Ego_ID], [Sys_Start_Time], [Sys_End_Time]) VALUES (19, 13, 1, CAST(N'2020-10-27T03:03:45.4752615' AS DateTime2), CAST(N'9999-12-31T23:59:59.9999999' AS DateTime2))\r\n",
                "SET IDENTITY_INSERT [dbo].[Alter_Ego_Person] OFF\r\n",
                "GO\r\n"
            ],
            "metadata": {
                "urn": "Server[@Name='SQLNotebooks']/Database[@Name='Superheroes']/Table[@Name='Alter_Ego_Person' and @Schema='dbo']",
                "object_type": "Table",
                "azdata_cell_guid": "f2131429-e9e9-4810-b597-334fdc0ca8dd"
            },
            "outputs": [],
            "execution_count": null
        },
        {
            "cell_type": "markdown",
            "source": [
                "# [dbo].[Alter_Ego_Person_History]"
            ],
            "metadata": {
                "urn": "Server[@Name='SQLNotebooks']/Database[@Name='Superheroes']/Table[@Name='Alter_Ego_Person_History' and @Schema='dbo']",
                "object_type": "Table",
                "azdata_cell_guid": "eb82b5ab-0d9d-4c3b-b076-e01b28d4388a"
            }
        },
        {
            "cell_type": "code",
            "source": [
                "SET IDENTITY_INSERT [dbo].[Alter_Ego_Person_History] ON \r\n",
                "INSERT [dbo].[Alter_Ego_Person_History] ([Alter_Ego_Person_History_ID], [History_Date], [ChangeType], [Old_Alter_Ego_ID], [Old_Person_ID], [New_Alter_Ego_ID], [New_Person_ID]) VALUES (1, CAST(N'2020-10-27T01:36:11.613' AS DateTime), N'I', NULL, NULL, 1, 1)\r\n",
                "INSERT [dbo].[Alter_Ego_Person_History] ([Alter_Ego_Person_History_ID], [History_Date], [ChangeType], [Old_Alter_Ego_ID], [Old_Person_ID], [New_Alter_Ego_ID], [New_Person_ID]) VALUES (2, CAST(N'2020-10-27T01:36:11.613' AS DateTime), N'I', NULL, NULL, 1, 2)\r\n",
                "INSERT [dbo].[Alter_Ego_Person_History] ([Alter_Ego_Person_History_ID], [History_Date], [ChangeType], [Old_Alter_Ego_ID], [Old_Person_ID], [New_Alter_Ego_ID], [New_Person_ID]) VALUES (3, CAST(N'2020-10-27T01:36:11.613' AS DateTime), N'I', NULL, NULL, 1, 3)\r\n",
                "INSERT [dbo].[Alter_Ego_Person_History] ([Alter_Ego_Person_History_ID], [History_Date], [ChangeType], [Old_Alter_Ego_ID], [Old_Person_ID], [New_Alter_Ego_ID], [New_Person_ID]) VALUES (4, CAST(N'2020-10-27T01:36:11.613' AS DateTime), N'I', NULL, NULL, 1, 4)\r\n",
                "INSERT [dbo].[Alter_Ego_Person_History] ([Alter_Ego_Person_History_ID], [History_Date], [ChangeType], [Old_Alter_Ego_ID], [Old_Person_ID], [New_Alter_Ego_ID], [New_Person_ID]) VALUES (5, CAST(N'2020-10-27T01:36:11.613' AS DateTime), N'I', NULL, NULL, 1, 5)\r\n",
                "INSERT [dbo].[Alter_Ego_Person_History] ([Alter_Ego_Person_History_ID], [History_Date], [ChangeType], [Old_Alter_Ego_ID], [Old_Person_ID], [New_Alter_Ego_ID], [New_Person_ID]) VALUES (6, CAST(N'2020-10-27T01:36:11.613' AS DateTime), N'I', NULL, NULL, 1, 6)\r\n",
                "INSERT [dbo].[Alter_Ego_Person_History] ([Alter_Ego_Person_History_ID], [History_Date], [ChangeType], [Old_Alter_Ego_ID], [Old_Person_ID], [New_Alter_Ego_ID], [New_Person_ID]) VALUES (7, CAST(N'2020-10-27T01:36:11.613' AS DateTime), N'I', NULL, NULL, 1, 7)\r\n",
                "INSERT [dbo].[Alter_Ego_Person_History] ([Alter_Ego_Person_History_ID], [History_Date], [ChangeType], [Old_Alter_Ego_ID], [Old_Person_ID], [New_Alter_Ego_ID], [New_Person_ID]) VALUES (8, CAST(N'2020-10-27T01:36:11.613' AS DateTime), N'I', NULL, NULL, 1, 8)\r\n",
                "INSERT [dbo].[Alter_Ego_Person_History] ([Alter_Ego_Person_History_ID], [History_Date], [ChangeType], [Old_Alter_Ego_ID], [Old_Person_ID], [New_Alter_Ego_ID], [New_Person_ID]) VALUES (9, CAST(N'2020-10-27T01:36:13.903' AS DateTime), N'U', 1, 2, 7, 2)\r\n",
                "INSERT [dbo].[Alter_Ego_Person_History] ([Alter_Ego_Person_History_ID], [History_Date], [ChangeType], [Old_Alter_Ego_ID], [Old_Person_ID], [New_Alter_Ego_ID], [New_Person_ID]) VALUES (10, CAST(N'2020-10-27T01:36:22.860' AS DateTime), N'D', 7, 2, NULL, NULL)\r\n",
                "INSERT [dbo].[Alter_Ego_Person_History] ([Alter_Ego_Person_History_ID], [History_Date], [ChangeType], [Old_Alter_Ego_ID], [Old_Person_ID], [New_Alter_Ego_ID], [New_Person_ID]) VALUES (11, CAST(N'2020-10-27T01:36:31.087' AS DateTime), N'I', NULL, NULL, 1, 9)\r\n",
                "INSERT [dbo].[Alter_Ego_Person_History] ([Alter_Ego_Person_History_ID], [History_Date], [ChangeType], [Old_Alter_Ego_ID], [Old_Person_ID], [New_Alter_Ego_ID], [New_Person_ID]) VALUES (12, CAST(N'2020-10-27T01:36:43.733' AS DateTime), N'D', 1, 9, NULL, NULL)\r\n",
                "INSERT [dbo].[Alter_Ego_Person_History] ([Alter_Ego_Person_History_ID], [History_Date], [ChangeType], [Old_Alter_Ego_ID], [Old_Person_ID], [New_Alter_Ego_ID], [New_Person_ID]) VALUES (13, CAST(N'2020-10-27T01:36:57.137' AS DateTime), N'I', NULL, NULL, 1, 10)\r\n",
                "INSERT [dbo].[Alter_Ego_Person_History] ([Alter_Ego_Person_History_ID], [History_Date], [ChangeType], [Old_Alter_Ego_ID], [Old_Person_ID], [New_Alter_Ego_ID], [New_Person_ID]) VALUES (14, CAST(N'2020-10-27T01:37:10.810' AS DateTime), N'I', NULL, NULL, 1, 11)\r\n",
                "SET IDENTITY_INSERT [dbo].[Alter_Ego_Person_History] OFF\r\n",
                "GO\r\n"
            ],
            "metadata": {
                "urn": "Server[@Name='SQLNotebooks']/Database[@Name='Superheroes']/Table[@Name='Alter_Ego_Person_History' and @Schema='dbo']",
                "object_type": "Table",
                "azdata_cell_guid": "acc6aa56-22cb-4128-b8f3-2d297f382494"
            },
            "outputs": [],
            "execution_count": null
        },
        {
            "cell_type": "markdown",
            "source": [
                "# [dbo].[Alter_Ego_Person_Temporal_History]"
            ],
            "metadata": {
                "urn": "Server[@Name='SQLNotebooks']/Database[@Name='Superheroes']/Table[@Name='Alter_Ego_Person_Temporal_History' and @Schema='dbo']",
                "object_type": "Table",
                "azdata_cell_guid": "c1ebf69a-2ebc-4e05-b266-91c430e0733e"
            }
        },
        {
            "cell_type": "code",
            "source": [
                "INSERT [dbo].[Alter_Ego_Person_Temporal_History] ([Alter_Ego_Person_ID], [Person_ID], [Alter_Ego_ID], [Sys_Start_Time], [Sys_End_Time]) VALUES (3, 3, 1, CAST(N'1900-01-01T00:00:00.0000000' AS DateTime2), CAST(N'2020-10-27T01:38:20.3793340' AS DateTime2))\r\n",
                "INSERT [dbo].[Alter_Ego_Person_Temporal_History] ([Alter_Ego_Person_ID], [Person_ID], [Alter_Ego_ID], [Sys_Start_Time], [Sys_End_Time]) VALUES (4, 4, 1, CAST(N'1900-01-01T00:00:00.0000000' AS DateTime2), CAST(N'2020-10-27T01:38:20.4090519' AS DateTime2))\r\n",
                "INSERT [dbo].[Alter_Ego_Person_Temporal_History] ([Alter_Ego_Person_ID], [Person_ID], [Alter_Ego_ID], [Sys_Start_Time], [Sys_End_Time]) VALUES (5, 5, 1, CAST(N'1900-01-01T00:00:00.0000000' AS DateTime2), CAST(N'2020-10-27T01:38:20.4173076' AS DateTime2))\r\n",
                "INSERT [dbo].[Alter_Ego_Person_Temporal_History] ([Alter_Ego_Person_ID], [Person_ID], [Alter_Ego_ID], [Sys_Start_Time], [Sys_End_Time]) VALUES (6, 6, 1, CAST(N'1900-01-01T00:00:00.0000000' AS DateTime2), CAST(N'2020-10-27T01:38:20.4213994' AS DateTime2))\r\n",
                "INSERT [dbo].[Alter_Ego_Person_Temporal_History] ([Alter_Ego_Person_ID], [Person_ID], [Alter_Ego_ID], [Sys_Start_Time], [Sys_End_Time]) VALUES (7, 7, 1, CAST(N'1900-01-01T00:00:00.0000000' AS DateTime2), CAST(N'2020-10-27T01:38:20.4297381' AS DateTime2))\r\n",
                "INSERT [dbo].[Alter_Ego_Person_Temporal_History] ([Alter_Ego_Person_ID], [Person_ID], [Alter_Ego_ID], [Sys_Start_Time], [Sys_End_Time]) VALUES (12, 12, 1, CAST(N'2020-10-27T01:38:11.5398250' AS DateTime2), CAST(N'2020-10-27T01:38:26.0021918' AS DateTime2))\r\n",
                "INSERT [dbo].[Alter_Ego_Person_Temporal_History] ([Alter_Ego_Person_ID], [Person_ID], [Alter_Ego_ID], [Sys_Start_Time], [Sys_End_Time]) VALUES (3, 3, 7, CAST(N'2020-10-27T01:38:20.3793340' AS DateTime2), CAST(N'2020-10-27T01:38:26.0230699' AS DateTime2))\r\n",
                "INSERT [dbo].[Alter_Ego_Person_Temporal_History] ([Alter_Ego_Person_ID], [Person_ID], [Alter_Ego_ID], [Sys_Start_Time], [Sys_End_Time]) VALUES (12, 12, 7, CAST(N'2020-10-27T01:38:26.0021918' AS DateTime2), CAST(N'2020-10-27T01:38:30.5735503' AS DateTime2))\r\n",
                "INSERT [dbo].[Alter_Ego_Person_Temporal_History] ([Alter_Ego_Person_ID], [Person_ID], [Alter_Ego_ID], [Sys_Start_Time], [Sys_End_Time]) VALUES (3, 3, 1, CAST(N'2020-10-27T01:38:26.0230699' AS DateTime2), CAST(N'2020-10-27T01:38:30.5944176' AS DateTime2))\r\n",
                "INSERT [dbo].[Alter_Ego_Person_Temporal_History] ([Alter_Ego_Person_ID], [Person_ID], [Alter_Ego_ID], [Sys_Start_Time], [Sys_End_Time]) VALUES (12, 12, 1, CAST(N'2020-10-27T01:38:30.5735503' AS DateTime2), CAST(N'2020-10-27T01:38:33.7484242' AS DateTime2))\r\n",
                "INSERT [dbo].[Alter_Ego_Person_Temporal_History] ([Alter_Ego_Person_ID], [Person_ID], [Alter_Ego_ID], [Sys_Start_Time], [Sys_End_Time]) VALUES (3, 3, 7, CAST(N'2020-10-27T01:38:30.5944176' AS DateTime2), CAST(N'2020-10-27T01:38:33.7567959' AS DateTime2))\r\n",
                "INSERT [dbo].[Alter_Ego_Person_Temporal_History] ([Alter_Ego_Person_ID], [Person_ID], [Alter_Ego_ID], [Sys_Start_Time], [Sys_End_Time]) VALUES (12, 12, 7, CAST(N'2020-10-27T01:38:33.7484242' AS DateTime2), CAST(N'2020-10-27T01:38:33.7650899' AS DateTime2))\r\n",
                "INSERT [dbo].[Alter_Ego_Person_Temporal_History] ([Alter_Ego_Person_ID], [Person_ID], [Alter_Ego_ID], [Sys_Start_Time], [Sys_End_Time]) VALUES (3, 3, 1, CAST(N'2020-10-27T01:38:33.7567959' AS DateTime2), CAST(N'2020-10-27T01:38:33.7692273' AS DateTime2))\r\n",
                "INSERT [dbo].[Alter_Ego_Person_Temporal_History] ([Alter_Ego_Person_ID], [Person_ID], [Alter_Ego_ID], [Sys_Start_Time], [Sys_End_Time]) VALUES (12, 12, 1, CAST(N'2020-10-27T01:38:33.7650899' AS DateTime2), CAST(N'2020-10-27T01:38:33.8941676' AS DateTime2))\r\n",
                "INSERT [dbo].[Alter_Ego_Person_Temporal_History] ([Alter_Ego_Person_ID], [Person_ID], [Alter_Ego_ID], [Sys_Start_Time], [Sys_End_Time]) VALUES (3, 3, 7, CAST(N'2020-10-27T01:38:33.7692273' AS DateTime2), CAST(N'2020-10-27T01:38:33.9317374' AS DateTime2))\r\n",
                "INSERT [dbo].[Alter_Ego_Person_Temporal_History] ([Alter_Ego_Person_ID], [Person_ID], [Alter_Ego_ID], [Sys_Start_Time], [Sys_End_Time]) VALUES (12, 12, 7, CAST(N'2020-10-27T01:38:33.8941676' AS DateTime2), CAST(N'2020-10-27T01:38:33.9400282' AS DateTime2))\r\n",
                "INSERT [dbo].[Alter_Ego_Person_Temporal_History] ([Alter_Ego_Person_ID], [Person_ID], [Alter_Ego_ID], [Sys_Start_Time], [Sys_End_Time]) VALUES (3, 3, 1, CAST(N'2020-10-27T01:38:33.9317374' AS DateTime2), CAST(N'2020-10-27T01:38:33.9484263' AS DateTime2))\r\n",
                "INSERT [dbo].[Alter_Ego_Person_Temporal_History] ([Alter_Ego_Person_ID], [Person_ID], [Alter_Ego_ID], [Sys_Start_Time], [Sys_End_Time]) VALUES (12, 12, 1, CAST(N'2020-10-27T01:38:33.9400282' AS DateTime2), CAST(N'2020-10-27T01:38:34.0652813' AS DateTime2))\r\n",
                "INSERT [dbo].[Alter_Ego_Person_Temporal_History] ([Alter_Ego_Person_ID], [Person_ID], [Alter_Ego_ID], [Sys_Start_Time], [Sys_End_Time]) VALUES (3, 3, 7, CAST(N'2020-10-27T01:38:33.9484263' AS DateTime2), CAST(N'2020-10-27T01:38:34.0738126' AS DateTime2))\r\n",
                "INSERT [dbo].[Alter_Ego_Person_Temporal_History] ([Alter_Ego_Person_ID], [Person_ID], [Alter_Ego_ID], [Sys_Start_Time], [Sys_End_Time]) VALUES (12, 12, 7, CAST(N'2020-10-27T01:38:34.0652813' AS DateTime2), CAST(N'2020-10-27T01:38:34.0819902' AS DateTime2))\r\n",
                "INSERT [dbo].[Alter_Ego_Person_Temporal_History] ([Alter_Ego_Person_ID], [Person_ID], [Alter_Ego_ID], [Sys_Start_Time], [Sys_End_Time]) VALUES (3, 3, 1, CAST(N'2020-10-27T01:38:34.0738126' AS DateTime2), CAST(N'2020-10-27T01:38:34.0861156' AS DateTime2))\r\n",
                "INSERT [dbo].[Alter_Ego_Person_Temporal_History] ([Alter_Ego_Person_ID], [Person_ID], [Alter_Ego_ID], [Sys_Start_Time], [Sys_End_Time]) VALUES (12, 12, 1, CAST(N'2020-10-27T01:38:34.0819902' AS DateTime2), CAST(N'2020-10-27T01:38:34.1900961' AS DateTime2))\r\n",
                "INSERT [dbo].[Alter_Ego_Person_Temporal_History] ([Alter_Ego_Person_ID], [Person_ID], [Alter_Ego_ID], [Sys_Start_Time], [Sys_End_Time]) VALUES (3, 3, 7, CAST(N'2020-10-27T01:38:34.0861156' AS DateTime2), CAST(N'2020-10-27T01:38:34.1984570' AS DateTime2))\r\n",
                "INSERT [dbo].[Alter_Ego_Person_Temporal_History] ([Alter_Ego_Person_ID], [Person_ID], [Alter_Ego_ID], [Sys_Start_Time], [Sys_End_Time]) VALUES (12, 12, 7, CAST(N'2020-10-27T01:38:34.1900961' AS DateTime2), CAST(N'2020-10-27T01:38:34.2067234' AS DateTime2))\r\n",
                "INSERT [dbo].[Alter_Ego_Person_Temporal_History] ([Alter_Ego_Person_ID], [Person_ID], [Alter_Ego_ID], [Sys_Start_Time], [Sys_End_Time]) VALUES (3, 3, 1, CAST(N'2020-10-27T01:38:34.1984570' AS DateTime2), CAST(N'2020-10-27T01:38:34.2149738' AS DateTime2))\r\n",
                "INSERT [dbo].[Alter_Ego_Person_Temporal_History] ([Alter_Ego_Person_ID], [Person_ID], [Alter_Ego_ID], [Sys_Start_Time], [Sys_End_Time]) VALUES (12, 12, 1, CAST(N'2020-10-27T01:38:34.2067234' AS DateTime2), CAST(N'2020-10-27T01:38:34.3450668' AS DateTime2))\r\n",
                "INSERT [dbo].[Alter_Ego_Person_Temporal_History] ([Alter_Ego_Person_ID], [Person_ID], [Alter_Ego_ID], [Sys_Start_Time], [Sys_End_Time]) VALUES (3, 3, 7, CAST(N'2020-10-27T01:38:34.2149738' AS DateTime2), CAST(N'2020-10-27T01:38:34.3617090' AS DateTime2))\r\n",
                "INSERT [dbo].[Alter_Ego_Person_Temporal_History] ([Alter_Ego_Person_ID], [Person_ID], [Alter_Ego_ID], [Sys_Start_Time], [Sys_End_Time]) VALUES (12, 12, 7, CAST(N'2020-10-27T01:38:34.3450668' AS DateTime2), CAST(N'2020-10-27T01:38:34.3699781' AS DateTime2))\r\n",
                "INSERT [dbo].[Alter_Ego_Person_Temporal_History] ([Alter_Ego_Person_ID], [Person_ID], [Alter_Ego_ID], [Sys_Start_Time], [Sys_End_Time]) VALUES (3, 3, 1, CAST(N'2020-10-27T01:38:34.3617090' AS DateTime2), CAST(N'2020-10-27T01:38:34.3740845' AS DateTime2))\r\n",
                "INSERT [dbo].[Alter_Ego_Person_Temporal_History] ([Alter_Ego_Person_ID], [Person_ID], [Alter_Ego_ID], [Sys_Start_Time], [Sys_End_Time]) VALUES (12, 12, 1, CAST(N'2020-10-27T01:38:34.3699781' AS DateTime2), CAST(N'2020-10-27T01:38:34.4869097' AS DateTime2))\r\n",
                "INSERT [dbo].[Alter_Ego_Person_Temporal_History] ([Alter_Ego_Person_ID], [Person_ID], [Alter_Ego_ID], [Sys_Start_Time], [Sys_End_Time]) VALUES (3, 3, 7, CAST(N'2020-10-27T01:38:34.3740845' AS DateTime2), CAST(N'2020-10-27T01:38:34.4951946' AS DateTime2))\r\n",
                "INSERT [dbo].[Alter_Ego_Person_Temporal_History] ([Alter_Ego_Person_ID], [Person_ID], [Alter_Ego_ID], [Sys_Start_Time], [Sys_End_Time]) VALUES (12, 12, 7, CAST(N'2020-10-27T01:38:34.4869097' AS DateTime2), CAST(N'2020-10-27T01:38:34.4993689' AS DateTime2))\r\n",
                "INSERT [dbo].[Alter_Ego_Person_Temporal_History] ([Alter_Ego_Person_ID], [Person_ID], [Alter_Ego_ID], [Sys_Start_Time], [Sys_End_Time]) VALUES (3, 3, 1, CAST(N'2020-10-27T01:38:34.4951946' AS DateTime2), CAST(N'2020-10-27T01:38:34.5075770' AS DateTime2))\r\n",
                "INSERT [dbo].[Alter_Ego_Person_Temporal_History] ([Alter_Ego_Person_ID], [Person_ID], [Alter_Ego_ID], [Sys_Start_Time], [Sys_End_Time]) VALUES (12, 12, 1, CAST(N'2020-10-27T01:38:34.4993689' AS DateTime2), CAST(N'2020-10-27T01:38:34.6329236' AS DateTime2))\r\n",
                "INSERT [dbo].[Alter_Ego_Person_Temporal_History] ([Alter_Ego_Person_ID], [Person_ID], [Alter_Ego_ID], [Sys_Start_Time], [Sys_End_Time]) VALUES (3, 3, 7, CAST(N'2020-10-27T01:38:34.5075770' AS DateTime2), CAST(N'2020-10-27T01:38:34.6538629' AS DateTime2))\r\n",
                "INSERT [dbo].[Alter_Ego_Person_Temporal_History] ([Alter_Ego_Person_ID], [Person_ID], [Alter_Ego_ID], [Sys_Start_Time], [Sys_End_Time]) VALUES (12, 12, 7, CAST(N'2020-10-27T01:38:34.6329236' AS DateTime2), CAST(N'2020-10-27T01:38:34.6621640' AS DateTime2))\r\n",
                "INSERT [dbo].[Alter_Ego_Person_Temporal_History] ([Alter_Ego_Person_ID], [Person_ID], [Alter_Ego_ID], [Sys_Start_Time], [Sys_End_Time]) VALUES (3, 3, 1, CAST(N'2020-10-27T01:38:34.6538629' AS DateTime2), CAST(N'2020-10-27T01:38:34.6663408' AS DateTime2))\r\n",
                "INSERT [dbo].[Alter_Ego_Person_Temporal_History] ([Alter_Ego_Person_ID], [Person_ID], [Alter_Ego_ID], [Sys_Start_Time], [Sys_End_Time]) VALUES (12, 12, 1, CAST(N'2020-10-27T01:38:34.6621640' AS DateTime2), CAST(N'2020-10-27T01:38:34.8083372' AS DateTime2))\r\n",
                "INSERT [dbo].[Alter_Ego_Person_Temporal_History] ([Alter_Ego_Person_ID], [Person_ID], [Alter_Ego_ID], [Sys_Start_Time], [Sys_End_Time]) VALUES (3, 3, 7, CAST(N'2020-10-27T01:38:34.6663408' AS DateTime2), CAST(N'2020-10-27T01:38:34.8168275' AS DateTime2))\r\n",
                "INSERT [dbo].[Alter_Ego_Person_Temporal_History] ([Alter_Ego_Person_ID], [Person_ID], [Alter_Ego_ID], [Sys_Start_Time], [Sys_End_Time]) VALUES (12, 12, 7, CAST(N'2020-10-27T01:38:34.8083372' AS DateTime2), CAST(N'2020-10-27T01:38:34.8251029' AS DateTime2))\r\n",
                "INSERT [dbo].[Alter_Ego_Person_Temporal_History] ([Alter_Ego_Person_ID], [Person_ID], [Alter_Ego_ID], [Sys_Start_Time], [Sys_End_Time]) VALUES (3, 3, 1, CAST(N'2020-10-27T01:38:34.8168275' AS DateTime2), CAST(N'2020-10-27T01:38:34.8291975' AS DateTime2))\r\n",
                "INSERT [dbo].[Alter_Ego_Person_Temporal_History] ([Alter_Ego_Person_ID], [Person_ID], [Alter_Ego_ID], [Sys_Start_Time], [Sys_End_Time]) VALUES (12, 12, 1, CAST(N'2020-10-27T01:38:34.8251029' AS DateTime2), CAST(N'2020-10-27T01:38:34.9163241' AS DateTime2))\r\n",
                "INSERT [dbo].[Alter_Ego_Person_Temporal_History] ([Alter_Ego_Person_ID], [Person_ID], [Alter_Ego_ID], [Sys_Start_Time], [Sys_End_Time]) VALUES (3, 3, 7, CAST(N'2020-10-27T01:38:34.8291975' AS DateTime2), CAST(N'2020-10-27T01:38:34.9204319' AS DateTime2))\r\n",
                "INSERT [dbo].[Alter_Ego_Person_Temporal_History] ([Alter_Ego_Person_ID], [Person_ID], [Alter_Ego_ID], [Sys_Start_Time], [Sys_End_Time]) VALUES (12, 12, 7, CAST(N'2020-10-27T01:38:34.9163241' AS DateTime2), CAST(N'2020-10-27T01:38:34.9287100' AS DateTime2))\r\n",
                "INSERT [dbo].[Alter_Ego_Person_Temporal_History] ([Alter_Ego_Person_ID], [Person_ID], [Alter_Ego_ID], [Sys_Start_Time], [Sys_End_Time]) VALUES (3, 3, 1, CAST(N'2020-10-27T01:38:34.9204319' AS DateTime2), CAST(N'2020-10-27T01:38:34.9330252' AS DateTime2))\r\n",
                "INSERT [dbo].[Alter_Ego_Person_Temporal_History] ([Alter_Ego_Person_ID], [Person_ID], [Alter_Ego_ID], [Sys_Start_Time], [Sys_End_Time]) VALUES (12, 12, 1, CAST(N'2020-10-27T01:38:34.9287100' AS DateTime2), CAST(N'2020-10-27T01:38:35.0329142' AS DateTime2))\r\n",
                "INSERT [dbo].[Alter_Ego_Person_Temporal_History] ([Alter_Ego_Person_ID], [Person_ID], [Alter_Ego_ID], [Sys_Start_Time], [Sys_End_Time]) VALUES (3, 3, 7, CAST(N'2020-10-27T01:38:34.9330252' AS DateTime2), CAST(N'2020-10-27T01:38:35.0371073' AS DateTime2))\r\n",
                "INSERT [dbo].[Alter_Ego_Person_Temporal_History] ([Alter_Ego_Person_ID], [Person_ID], [Alter_Ego_ID], [Sys_Start_Time], [Sys_End_Time]) VALUES (12, 12, 7, CAST(N'2020-10-27T01:38:35.0329142' AS DateTime2), CAST(N'2020-10-27T01:38:35.0455382' AS DateTime2))\r\n",
                "INSERT [dbo].[Alter_Ego_Person_Temporal_History] ([Alter_Ego_Person_ID], [Person_ID], [Alter_Ego_ID], [Sys_Start_Time], [Sys_End_Time]) VALUES (3, 3, 1, CAST(N'2020-10-27T01:38:35.0371073' AS DateTime2), CAST(N'2020-10-27T01:38:35.0538844' AS DateTime2))\r\n",
                "INSERT [dbo].[Alter_Ego_Person_Temporal_History] ([Alter_Ego_Person_ID], [Person_ID], [Alter_Ego_ID], [Sys_Start_Time], [Sys_End_Time]) VALUES (12, 12, 1, CAST(N'2020-10-27T01:38:35.0455382' AS DateTime2), CAST(N'2020-10-27T01:38:35.1624214' AS DateTime2))\r\n",
                "INSERT [dbo].[Alter_Ego_Person_Temporal_History] ([Alter_Ego_Person_ID], [Person_ID], [Alter_Ego_ID], [Sys_Start_Time], [Sys_End_Time]) VALUES (3, 3, 7, CAST(N'2020-10-27T01:38:35.0538844' AS DateTime2), CAST(N'2020-10-27T01:38:35.1749549' AS DateTime2))\r\n",
                "INSERT [dbo].[Alter_Ego_Person_Temporal_History] ([Alter_Ego_Person_ID], [Person_ID], [Alter_Ego_ID], [Sys_Start_Time], [Sys_End_Time]) VALUES (12, 12, 7, CAST(N'2020-10-27T01:38:35.1624214' AS DateTime2), CAST(N'2020-10-27T01:38:35.1791573' AS DateTime2))\r\n",
                "INSERT [dbo].[Alter_Ego_Person_Temporal_History] ([Alter_Ego_Person_ID], [Person_ID], [Alter_Ego_ID], [Sys_Start_Time], [Sys_End_Time]) VALUES (3, 3, 1, CAST(N'2020-10-27T01:38:35.1749549' AS DateTime2), CAST(N'2020-10-27T01:38:35.1874479' AS DateTime2))\r\n",
                "INSERT [dbo].[Alter_Ego_Person_Temporal_History] ([Alter_Ego_Person_ID], [Person_ID], [Alter_Ego_ID], [Sys_Start_Time], [Sys_End_Time]) VALUES (12, 12, 1, CAST(N'2020-10-27T01:38:35.1791573' AS DateTime2), CAST(N'2020-10-27T01:38:35.3003406' AS DateTime2))\r\n",
                "INSERT [dbo].[Alter_Ego_Person_Temporal_History] ([Alter_Ego_Person_ID], [Person_ID], [Alter_Ego_ID], [Sys_Start_Time], [Sys_End_Time]) VALUES (3, 3, 7, CAST(N'2020-10-27T01:38:35.1874479' AS DateTime2), CAST(N'2020-10-27T01:38:35.3209816' AS DateTime2))\r\n",
                "INSERT [dbo].[Alter_Ego_Person_Temporal_History] ([Alter_Ego_Person_ID], [Person_ID], [Alter_Ego_ID], [Sys_Start_Time], [Sys_End_Time]) VALUES (12, 12, 7, CAST(N'2020-10-27T01:38:35.3003406' AS DateTime2), CAST(N'2020-10-27T01:38:35.3251143' AS DateTime2))\r\n",
                "INSERT [dbo].[Alter_Ego_Person_Temporal_History] ([Alter_Ego_Person_ID], [Person_ID], [Alter_Ego_ID], [Sys_Start_Time], [Sys_End_Time]) VALUES (3, 3, 1, CAST(N'2020-10-27T01:38:35.3209816' AS DateTime2), CAST(N'2020-10-27T01:38:35.3334375' AS DateTime2))\r\n",
                "INSERT [dbo].[Alter_Ego_Person_Temporal_History] ([Alter_Ego_Person_ID], [Person_ID], [Alter_Ego_ID], [Sys_Start_Time], [Sys_End_Time]) VALUES (12, 12, 1, CAST(N'2020-10-27T01:38:35.3251143' AS DateTime2), CAST(N'2020-10-27T01:38:35.4417632' AS DateTime2))\r\n",
                "INSERT [dbo].[Alter_Ego_Person_Temporal_History] ([Alter_Ego_Person_ID], [Person_ID], [Alter_Ego_ID], [Sys_Start_Time], [Sys_End_Time]) VALUES (3, 3, 7, CAST(N'2020-10-27T01:38:35.3334375' AS DateTime2), CAST(N'2020-10-27T01:38:35.4502206' AS DateTime2))\r\n",
                "INSERT [dbo].[Alter_Ego_Person_Temporal_History] ([Alter_Ego_Person_ID], [Person_ID], [Alter_Ego_ID], [Sys_Start_Time], [Sys_End_Time]) VALUES (12, 12, 7, CAST(N'2020-10-27T01:38:35.4417632' AS DateTime2), CAST(N'2020-10-27T01:38:35.4544305' AS DateTime2))\r\n",
                "INSERT [dbo].[Alter_Ego_Person_Temporal_History] ([Alter_Ego_Person_ID], [Person_ID], [Alter_Ego_ID], [Sys_Start_Time], [Sys_End_Time]) VALUES (3, 3, 1, CAST(N'2020-10-27T01:38:35.4502206' AS DateTime2), CAST(N'2020-10-27T01:38:35.4627214' AS DateTime2))\r\n",
                "INSERT [dbo].[Alter_Ego_Person_Temporal_History] ([Alter_Ego_Person_ID], [Person_ID], [Alter_Ego_ID], [Sys_Start_Time], [Sys_End_Time]) VALUES (12, 12, 1, CAST(N'2020-10-27T01:38:35.4544305' AS DateTime2), CAST(N'2020-10-27T01:38:35.5542078' AS DateTime2))\r\n",
                "INSERT [dbo].[Alter_Ego_Person_Temporal_History] ([Alter_Ego_Person_ID], [Person_ID], [Alter_Ego_ID], [Sys_Start_Time], [Sys_End_Time]) VALUES (3, 3, 7, CAST(N'2020-10-27T01:38:35.4627214' AS DateTime2), CAST(N'2020-10-27T01:38:35.5583421' AS DateTime2))\r\n",
                "INSERT [dbo].[Alter_Ego_Person_Temporal_History] ([Alter_Ego_Person_ID], [Person_ID], [Alter_Ego_ID], [Sys_Start_Time], [Sys_End_Time]) VALUES (12, 12, 7, CAST(N'2020-10-27T01:38:35.5542078' AS DateTime2), CAST(N'2020-10-27T01:38:35.5666357' AS DateTime2))\r\n",
                "INSERT [dbo].[Alter_Ego_Person_Temporal_History] ([Alter_Ego_Person_ID], [Person_ID], [Alter_Ego_ID], [Sys_Start_Time], [Sys_End_Time]) VALUES (3, 3, 1, CAST(N'2020-10-27T01:38:35.5583421' AS DateTime2), CAST(N'2020-10-27T01:38:35.5748943' AS DateTime2))\r\n",
                "INSERT [dbo].[Alter_Ego_Person_Temporal_History] ([Alter_Ego_Person_ID], [Person_ID], [Alter_Ego_ID], [Sys_Start_Time], [Sys_End_Time]) VALUES (12, 12, 1, CAST(N'2020-10-27T01:38:35.5666357' AS DateTime2), CAST(N'2020-10-27T01:38:35.6833166' AS DateTime2))\r\n",
                "INSERT [dbo].[Alter_Ego_Person_Temporal_History] ([Alter_Ego_Person_ID], [Person_ID], [Alter_Ego_ID], [Sys_Start_Time], [Sys_End_Time]) VALUES (3, 3, 7, CAST(N'2020-10-27T01:38:35.5748943' AS DateTime2), CAST(N'2020-10-27T01:38:35.6916107' AS DateTime2))\r\n",
                "INSERT [dbo].[Alter_Ego_Person_Temporal_History] ([Alter_Ego_Person_ID], [Person_ID], [Alter_Ego_ID], [Sys_Start_Time], [Sys_End_Time]) VALUES (12, 12, 7, CAST(N'2020-10-27T01:38:35.6833166' AS DateTime2), CAST(N'2020-10-27T01:38:35.6998938' AS DateTime2))\r\n",
                "INSERT [dbo].[Alter_Ego_Person_Temporal_History] ([Alter_Ego_Person_ID], [Person_ID], [Alter_Ego_ID], [Sys_Start_Time], [Sys_End_Time]) VALUES (3, 3, 1, CAST(N'2020-10-27T01:38:35.6916107' AS DateTime2), CAST(N'2020-10-27T01:38:35.7040141' AS DateTime2))\r\n",
                "INSERT [dbo].[Alter_Ego_Person_Temporal_History] ([Alter_Ego_Person_ID], [Person_ID], [Alter_Ego_ID], [Sys_Start_Time], [Sys_End_Time]) VALUES (12, 12, 1, CAST(N'2020-10-27T01:38:35.6998938' AS DateTime2), CAST(N'2020-10-27T01:38:35.8080486' AS DateTime2))\r\n",
                "INSERT [dbo].[Alter_Ego_Person_Temporal_History] ([Alter_Ego_Person_ID], [Person_ID], [Alter_Ego_ID], [Sys_Start_Time], [Sys_End_Time]) VALUES (3, 3, 7, CAST(N'2020-10-27T01:38:35.7040141' AS DateTime2), CAST(N'2020-10-27T01:38:35.8163965' AS DateTime2))\r\n",
                "INSERT [dbo].[Alter_Ego_Person_Temporal_History] ([Alter_Ego_Person_ID], [Person_ID], [Alter_Ego_ID], [Sys_Start_Time], [Sys_End_Time]) VALUES (12, 12, 7, CAST(N'2020-10-27T01:38:35.8080486' AS DateTime2), CAST(N'2020-10-27T01:38:35.8205281' AS DateTime2))\r\n",
                "INSERT [dbo].[Alter_Ego_Person_Temporal_History] ([Alter_Ego_Person_ID], [Person_ID], [Alter_Ego_ID], [Sys_Start_Time], [Sys_End_Time]) VALUES (3, 3, 1, CAST(N'2020-10-27T01:38:35.8163965' AS DateTime2), CAST(N'2020-10-27T01:38:35.8287565' AS DateTime2))\r\n",
                "INSERT [dbo].[Alter_Ego_Person_Temporal_History] ([Alter_Ego_Person_ID], [Person_ID], [Alter_Ego_ID], [Sys_Start_Time], [Sys_End_Time]) VALUES (12, 12, 1, CAST(N'2020-10-27T01:38:35.8205281' AS DateTime2), CAST(N'2020-10-27T01:38:35.9375367' AS DateTime2))\r\n",
                "INSERT [dbo].[Alter_Ego_Person_Temporal_History] ([Alter_Ego_Person_ID], [Person_ID], [Alter_Ego_ID], [Sys_Start_Time], [Sys_End_Time]) VALUES (3, 3, 7, CAST(N'2020-10-27T01:38:35.8287565' AS DateTime2), CAST(N'2020-10-27T01:38:35.9583497' AS DateTime2))\r\n",
                "INSERT [dbo].[Alter_Ego_Person_Temporal_History] ([Alter_Ego_Person_ID], [Person_ID], [Alter_Ego_ID], [Sys_Start_Time], [Sys_End_Time]) VALUES (12, 12, 7, CAST(N'2020-10-27T01:38:35.9375367' AS DateTime2), CAST(N'2020-10-27T01:38:35.9624743' AS DateTime2))\r\n",
                "INSERT [dbo].[Alter_Ego_Person_Temporal_History] ([Alter_Ego_Person_ID], [Person_ID], [Alter_Ego_ID], [Sys_Start_Time], [Sys_End_Time]) VALUES (3, 3, 1, CAST(N'2020-10-27T01:38:35.9583497' AS DateTime2), CAST(N'2020-10-27T01:38:35.9707046' AS DateTime2))\r\n",
                "INSERT [dbo].[Alter_Ego_Person_Temporal_History] ([Alter_Ego_Person_ID], [Person_ID], [Alter_Ego_ID], [Sys_Start_Time], [Sys_End_Time]) VALUES (12, 12, 1, CAST(N'2020-10-27T01:38:35.9624743' AS DateTime2), CAST(N'2020-10-27T01:38:36.0710485' AS DateTime2))\r\n",
                "INSERT [dbo].[Alter_Ego_Person_Temporal_History] ([Alter_Ego_Person_ID], [Person_ID], [Alter_Ego_ID], [Sys_Start_Time], [Sys_End_Time]) VALUES (3, 3, 7, CAST(N'2020-10-27T01:38:35.9707046' AS DateTime2), CAST(N'2020-10-27T01:38:36.0793574' AS DateTime2))\r\n",
                "INSERT [dbo].[Alter_Ego_Person_Temporal_History] ([Alter_Ego_Person_ID], [Person_ID], [Alter_Ego_ID], [Sys_Start_Time], [Sys_End_Time]) VALUES (12, 12, 7, CAST(N'2020-10-27T01:38:36.0710485' AS DateTime2), CAST(N'2020-10-27T01:38:36.0876686' AS DateTime2))\r\n",
                "INSERT [dbo].[Alter_Ego_Person_Temporal_History] ([Alter_Ego_Person_ID], [Person_ID], [Alter_Ego_ID], [Sys_Start_Time], [Sys_End_Time]) VALUES (3, 3, 1, CAST(N'2020-10-27T01:38:36.0793574' AS DateTime2), CAST(N'2020-10-27T01:38:36.0917943' AS DateTime2))\r\n",
                "INSERT [dbo].[Alter_Ego_Person_Temporal_History] ([Alter_Ego_Person_ID], [Person_ID], [Alter_Ego_ID], [Sys_Start_Time], [Sys_End_Time]) VALUES (12, 12, 1, CAST(N'2020-10-27T01:38:36.0876686' AS DateTime2), CAST(N'2020-10-27T01:38:36.1831406' AS DateTime2))\r\n",
                "INSERT [dbo].[Alter_Ego_Person_Temporal_History] ([Alter_Ego_Person_ID], [Person_ID], [Alter_Ego_ID], [Sys_Start_Time], [Sys_End_Time]) VALUES (3, 3, 7, CAST(N'2020-10-27T01:38:36.0917943' AS DateTime2), CAST(N'2020-10-27T01:38:36.1873117' AS DateTime2))\r\n",
                "INSERT [dbo].[Alter_Ego_Person_Temporal_History] ([Alter_Ego_Person_ID], [Person_ID], [Alter_Ego_ID], [Sys_Start_Time], [Sys_End_Time]) VALUES (12, 12, 7, CAST(N'2020-10-27T01:38:36.1831406' AS DateTime2), CAST(N'2020-10-27T01:38:36.1956253' AS DateTime2))\r\n",
                "INSERT [dbo].[Alter_Ego_Person_Temporal_History] ([Alter_Ego_Person_ID], [Person_ID], [Alter_Ego_ID], [Sys_Start_Time], [Sys_End_Time]) VALUES (3, 3, 1, CAST(N'2020-10-27T01:38:36.1873117' AS DateTime2), CAST(N'2020-10-27T01:38:36.1997328' AS DateTime2))\r\n",
                "INSERT [dbo].[Alter_Ego_Person_Temporal_History] ([Alter_Ego_Person_ID], [Person_ID], [Alter_Ego_ID], [Sys_Start_Time], [Sys_End_Time]) VALUES (12, 12, 1, CAST(N'2020-10-27T01:38:36.1956253' AS DateTime2), CAST(N'2020-10-27T01:38:36.2955279' AS DateTime2))\r\n",
                "INSERT [dbo].[Alter_Ego_Person_Temporal_History] ([Alter_Ego_Person_ID], [Person_ID], [Alter_Ego_ID], [Sys_Start_Time], [Sys_End_Time]) VALUES (3, 3, 7, CAST(N'2020-10-27T01:38:36.1997328' AS DateTime2), CAST(N'2020-10-27T01:38:36.3037011' AS DateTime2))\r\n",
                "INSERT [dbo].[Alter_Ego_Person_Temporal_History] ([Alter_Ego_Person_ID], [Person_ID], [Alter_Ego_ID], [Sys_Start_Time], [Sys_End_Time]) VALUES (12, 12, 7, CAST(N'2020-10-27T01:38:36.2955279' AS DateTime2), CAST(N'2020-10-27T01:38:36.3119699' AS DateTime2))\r\n",
                "INSERT [dbo].[Alter_Ego_Person_Temporal_History] ([Alter_Ego_Person_ID], [Person_ID], [Alter_Ego_ID], [Sys_Start_Time], [Sys_End_Time]) VALUES (3, 3, 1, CAST(N'2020-10-27T01:38:36.3037011' AS DateTime2), CAST(N'2020-10-27T01:38:36.3202803' AS DateTime2))\r\n",
                "INSERT [dbo].[Alter_Ego_Person_Temporal_History] ([Alter_Ego_Person_ID], [Person_ID], [Alter_Ego_ID], [Sys_Start_Time], [Sys_End_Time]) VALUES (12, 12, 1, CAST(N'2020-10-27T01:38:36.3119699' AS DateTime2), CAST(N'2020-10-27T01:39:00.5608442' AS DateTime2))\r\n",
                "INSERT [dbo].[Alter_Ego_Person_Temporal_History] ([Alter_Ego_Person_ID], [Person_ID], [Alter_Ego_ID], [Sys_Start_Time], [Sys_End_Time]) VALUES (3, 3, 7, CAST(N'2020-10-27T01:38:36.3202803' AS DateTime2), CAST(N'2020-10-27T01:39:00.5818253' AS DateTime2))\r\n",
                "INSERT [dbo].[Alter_Ego_Person_Temporal_History] ([Alter_Ego_Person_ID], [Person_ID], [Alter_Ego_ID], [Sys_Start_Time], [Sys_End_Time]) VALUES (12, 12, 7, CAST(N'2020-10-27T01:39:00.5608442' AS DateTime2), CAST(N'2020-10-27T02:54:37.4747119' AS DateTime2))\r\n",
                "INSERT [dbo].[Alter_Ego_Person_Temporal_History] ([Alter_Ego_Person_ID], [Person_ID], [Alter_Ego_ID], [Sys_Start_Time], [Sys_End_Time]) VALUES (3, 3, 1, CAST(N'2020-10-27T01:39:00.5818253' AS DateTime2), CAST(N'2020-10-27T02:54:37.5082341' AS DateTime2))\r\n",
                "INSERT [dbo].[Alter_Ego_Person_Temporal_History] ([Alter_Ego_Person_ID], [Person_ID], [Alter_Ego_ID], [Sys_Start_Time], [Sys_End_Time]) VALUES (18, 14, 1, CAST(N'2020-10-27T03:03:45.4752615' AS DateTime2), CAST(N'2020-10-27T14:12:49.3155678' AS DateTime2))\r\n",
                "INSERT [dbo].[Alter_Ego_Person_Temporal_History] ([Alter_Ego_Person_ID], [Person_ID], [Alter_Ego_ID], [Sys_Start_Time], [Sys_End_Time]) VALUES (17, 15, 1, CAST(N'2020-10-27T03:03:45.4752615' AS DateTime2), CAST(N'2020-10-27T14:12:49.3155678' AS DateTime2))\r\n",
                "INSERT [dbo].[Alter_Ego_Person_Temporal_History] ([Alter_Ego_Person_ID], [Person_ID], [Alter_Ego_ID], [Sys_Start_Time], [Sys_End_Time]) VALUES (16, 16, 1, CAST(N'2020-10-27T03:03:45.4752615' AS DateTime2), CAST(N'2020-10-27T14:12:49.3155678' AS DateTime2))\r\n",
                "GO\r\n"
            ],
            "metadata": {
                "urn": "Server[@Name='SQLNotebooks']/Database[@Name='Superheroes']/Table[@Name='Alter_Ego_Person_Temporal_History' and @Schema='dbo']",
                "object_type": "Table",
                "azdata_cell_guid": "ff85bbf9-8258-4acd-a64a-f656290ca1c5"
            },
            "outputs": [],
            "execution_count": null
        },
        {
            "cell_type": "markdown",
            "source": [
                "# [dbo].[Comic_Universe]"
            ],
            "metadata": {
                "urn": "Server[@Name='SQLNotebooks']/Database[@Name='Superheroes']/Table[@Name='Comic_Universe' and @Schema='dbo']",
                "object_type": "Table",
                "azdata_cell_guid": "de862781-d3be-4c90-8859-c7e0cc18f92f"
            }
        },
        {
            "cell_type": "code",
            "source": [
                "SET IDENTITY_INSERT [dbo].[Comic_Universe] ON \r\n",
                "INSERT [dbo].[Comic_Universe] ([Comic_Universe_ID], [Comic_Universe_Name]) VALUES (4, N'Cartoon Network')\r\n",
                "INSERT [dbo].[Comic_Universe] ([Comic_Universe_ID], [Comic_Universe_Name]) VALUES (3, N'DCU')\r\n",
                "INSERT [dbo].[Comic_Universe] ([Comic_Universe_ID], [Comic_Universe_Name]) VALUES (2, N'Marvel')\r\n",
                "INSERT [dbo].[Comic_Universe] ([Comic_Universe_ID], [Comic_Universe_Name]) VALUES (1, N'No Universe')\r\n",
                "SET IDENTITY_INSERT [dbo].[Comic_Universe] OFF\r\n",
                "GO\r\n"
            ],
            "metadata": {
                "urn": "Server[@Name='SQLNotebooks']/Database[@Name='Superheroes']/Table[@Name='Comic_Universe' and @Schema='dbo']",
                "object_type": "Table",
                "azdata_cell_guid": "671d86a5-fb89-4bdb-94f4-2aa338dba346"
            },
            "outputs": [],
            "execution_count": null
        },
        {
            "cell_type": "markdown",
            "source": [
                "# [dbo].[Corporation]"
            ],
            "metadata": {
                "urn": "Server[@Name='SQLNotebooks']/Database[@Name='Superheroes']/Table[@Name='Corporation' and @Schema='dbo']",
                "object_type": "Table",
                "azdata_cell_guid": "8d0e1c96-1768-4374-a24b-a4cc7d621ce1"
            }
        },
        {
            "cell_type": "code",
            "source": [
                "SET IDENTITY_INSERT [dbo].[Corporation] ON \r\n",
                "INSERT [dbo].[Corporation] ([Corporation_ID], [Corporation_Name]) VALUES (1, N'Stark Industries')\r\n",
                "INSERT [dbo].[Corporation] ([Corporation_ID], [Corporation_Name]) VALUES (2, N'Wayne Enterprises')\r\n",
                "SET IDENTITY_INSERT [dbo].[Corporation] OFF\r\n",
                "GO\r\n"
            ],
            "metadata": {
                "urn": "Server[@Name='SQLNotebooks']/Database[@Name='Superheroes']/Table[@Name='Corporation' and @Schema='dbo']",
                "object_type": "Table",
                "azdata_cell_guid": "fd13aace-15ea-417c-a8b4-7276ae376866"
            },
            "outputs": [],
            "execution_count": null
        },
        {
            "cell_type": "markdown",
            "source": [
                "# [dbo].[ETL_Error_Log]"
            ],
            "metadata": {
                "urn": "Server[@Name='SQLNotebooks']/Database[@Name='Superheroes']/Table[@Name='ETL_Error_Log' and @Schema='dbo']",
                "object_type": "Table",
                "azdata_cell_guid": "b6d16643-1d3a-46de-a63f-0f38e7f2699d"
            }
        },
        {
            "cell_type": "code",
            "source": [
                "SET IDENTITY_INSERT [dbo].[ETL_Error_Log] ON \r\n",
                "INSERT [dbo].[ETL_Error_Log] ([ETL_Error_Log_ID], [Error_Description], [CSV_Data], [Error_Timestamp]) VALUES (1, N'Good Deed not found', N'Peggy Carter,Foiled Hydra,Save city,NULL', CAST(N'2020-05-19T00:00:00.000' AS DateTime))\r\n",
                "INSERT [dbo].[ETL_Error_Log] ([ETL_Error_Log_ID], [Error_Description], [CSV_Data], [Error_Timestamp]) VALUES (2, N'Person not found', N'Tony Stark,Defeated the Mandarin,Defeat supervillan,', CAST(N'2020-05-19T00:00:00.000' AS DateTime))\r\n",
                "INSERT [dbo].[ETL_Error_Log] ([ETL_Error_Log_ID], [Error_Description], [CSV_Data], [Error_Timestamp]) VALUES (3, N'Person not found', N'Melkin Deborah,Help person,Prevented intern from dropping Prod,NULL', CAST(N'2020-05-19T00:00:00.000' AS DateTime))\r\n",
                "INSERT [dbo].[ETL_Error_Log] ([ETL_Error_Log_ID], [Error_Description], [CSV_Data], [Error_Timestamp]) VALUES (4, N'Translation error', N'Zero Wing,All your base are belong to us,All your base are belong to us,NULL', CAST(N'2020-05-19T00:00:00.000' AS DateTime))\r\n",
                "INSERT [dbo].[ETL_Error_Log] ([ETL_Error_Log_ID], [Error_Description], [CSV_Data], [Error_Timestamp]) VALUES (5, N'Translation error', N'Zero Wing,Somebody set up us the bomb,Somebody set up us the bomb,NULL', CAST(N'2020-05-19T00:00:00.000' AS DateTime))\r\n",
                "INSERT [dbo].[ETL_Error_Log] ([ETL_Error_Log_ID], [Error_Description], [CSV_Data], [Error_Timestamp]) VALUES (6, N'Mismatched number of Values', N'Zero Wing,You have no chance to survive make your time,NULL', CAST(N'2020-05-19T00:00:00.000' AS DateTime))\r\n",
                "SET IDENTITY_INSERT [dbo].[ETL_Error_Log] OFF\r\n",
                "GO\r\n"
            ],
            "metadata": {
                "urn": "Server[@Name='SQLNotebooks']/Database[@Name='Superheroes']/Table[@Name='ETL_Error_Log' and @Schema='dbo']",
                "object_type": "Table",
                "azdata_cell_guid": "705eede3-440d-4a5b-aca5-005cd4a22137"
            },
            "outputs": [],
            "execution_count": null
        },
        {
            "cell_type": "markdown",
            "source": [
                "# [dbo].[Gadget]"
            ],
            "metadata": {
                "urn": "Server[@Name='SQLNotebooks']/Database[@Name='Superheroes']/Table[@Name='Gadget' and @Schema='dbo']",
                "object_type": "Table",
                "azdata_cell_guid": "d15ea87c-2d41-4558-9f4d-489cec0db53f"
            }
        },
        {
            "cell_type": "code",
            "source": [
                "SET IDENTITY_INSERT [dbo].[Gadget] ON \r\n",
                "INSERT [dbo].[Gadget] ([Gadget_ID], [Gadget_Name], [Gadget_Desc]) VALUES (1, N'Lasso of Truth', N'Forces the person trapped in it to tell the truth')\r\n",
                "INSERT [dbo].[Gadget] ([Gadget_ID], [Gadget_Name], [Gadget_Desc]) VALUES (2, N'Magical Bracelets', N'Deflect any projectile')\r\n",
                "INSERT [dbo].[Gadget] ([Gadget_ID], [Gadget_Name], [Gadget_Desc]) VALUES (3, N'Royal Tiara', N'Defensive and offensive Projectile')\r\n",
                "INSERT [dbo].[Gadget] ([Gadget_ID], [Gadget_Name], [Gadget_Desc]) VALUES (4, N'Invisible Jet', N'Transportation')\r\n",
                "SET IDENTITY_INSERT [dbo].[Gadget] OFF\r\n",
                "GO\r\n"
            ],
            "metadata": {
                "urn": "Server[@Name='SQLNotebooks']/Database[@Name='Superheroes']/Table[@Name='Gadget' and @Schema='dbo']",
                "object_type": "Table",
                "azdata_cell_guid": "b7ef848a-978c-45fe-bc43-b05363f52594"
            },
            "outputs": [],
            "execution_count": null
        },
        {
            "cell_type": "markdown",
            "source": [
                "# [dbo].[Gadget_Order_Form]"
            ],
            "metadata": {
                "urn": "Server[@Name='SQLNotebooks']/Database[@Name='Superheroes']/Table[@Name='Gadget_Order_Form' and @Schema='dbo']",
                "object_type": "Table",
                "azdata_cell_guid": "96fd1326-ba7c-47d1-95e9-4f7b0367dd61"
            }
        },
        {
            "cell_type": "code",
            "source": [
                "SET IDENTITY_INSERT [dbo].[Gadget_Order_Form] ON \r\n",
                "INSERT [dbo].[Gadget_Order_Form] ([Order_ID], [Order_Date], [Person_ID], [Corporation_ID], [Gadget_ID], [Number_Ordered], [Price_Per_Item], [Tax], [Shipping], [Total_Due]) VALUES (4, CAST(N'2020-10-27T01:39:51.260' AS DateTime), 12, NULL, 1, 2, CAST(100.00 AS Numeric(19, 2)), CAST(10.50 AS Numeric(19, 2)), CAST(10.00 AS Numeric(19, 2)), CAST(220.50 AS Numeric(19, 2)))\r\n",
                "INSERT [dbo].[Gadget_Order_Form] ([Order_ID], [Order_Date], [Person_ID], [Corporation_ID], [Gadget_ID], [Number_Ordered], [Price_Per_Item], [Tax], [Shipping], [Total_Due]) VALUES (5, CAST(N'2020-10-27T01:39:51.260' AS DateTime), 12, NULL, 2, 4, CAST(20.00 AS Numeric(19, 2)), CAST(4.20 AS Numeric(19, 2)), CAST(10.00 AS Numeric(19, 2)), CAST(94.20 AS Numeric(19, 2)))\r\n",
                "INSERT [dbo].[Gadget_Order_Form] ([Order_ID], [Order_Date], [Person_ID], [Corporation_ID], [Gadget_ID], [Number_Ordered], [Price_Per_Item], [Tax], [Shipping], [Total_Due]) VALUES (6, CAST(N'2020-10-27T01:39:51.260' AS DateTime), 12, NULL, 3, 1, CAST(30.00 AS Numeric(19, 2)), CAST(1.58 AS Numeric(19, 2)), CAST(10.00 AS Numeric(19, 2)), CAST(41.58 AS Numeric(19, 2)))\r\n",
                "SET IDENTITY_INSERT [dbo].[Gadget_Order_Form] OFF\r\n",
                "GO\r\n"
            ],
            "metadata": {
                "urn": "Server[@Name='SQLNotebooks']/Database[@Name='Superheroes']/Table[@Name='Gadget_Order_Form' and @Schema='dbo']",
                "object_type": "Table",
                "azdata_cell_guid": "05d3fd19-c852-4922-a7ea-26eae7402f1a"
            },
            "outputs": [],
            "execution_count": null
        },
        {
            "cell_type": "markdown",
            "source": [
                "# [dbo].[Good_Deed_History]"
            ],
            "metadata": {
                "urn": "Server[@Name='SQLNotebooks']/Database[@Name='Superheroes']/Table[@Name='Good_Deed_History' and @Schema='dbo']",
                "object_type": "Table",
                "azdata_cell_guid": "44db316a-056b-42c0-a46e-73cd8a4f0202"
            }
        },
        {
            "cell_type": "code",
            "source": [
                "SET IDENTITY_INSERT [dbo].[Good_Deed_History] ON \r\n",
                "INSERT [dbo].[Good_Deed_History] ([Good_Deed_History_ID], [Good_Deed_Type_ID], [Good_Deed_Person_ID], [Good_Deed_Description], [Good_Deed_Timestamp]) VALUES (1, 4, NULL, N'Helped Andy cross the road safely', CAST(N'2020-05-20T00:00:00.000' AS DateTime))\r\n",
                "INSERT [dbo].[Good_Deed_History] ([Good_Deed_History_ID], [Good_Deed_Type_ID], [Good_Deed_Person_ID], [Good_Deed_Description], [Good_Deed_Timestamp]) VALUES (2, 2, NULL, N'Saved a cat from a bat', CAST(N'2020-05-20T00:00:00.000' AS DateTime))\r\n",
                "INSERT [dbo].[Good_Deed_History] ([Good_Deed_History_ID], [Good_Deed_Type_ID], [Good_Deed_Person_ID], [Good_Deed_Description], [Good_Deed_Timestamp]) VALUES (3, 4, NULL, N'Consoled Peter over loss of Uncle Ben', CAST(N'2010-05-20T00:00:00.000' AS DateTime))\r\n",
                "INSERT [dbo].[Good_Deed_History] ([Good_Deed_History_ID], [Good_Deed_Type_ID], [Good_Deed_Person_ID], [Good_Deed_Description], [Good_Deed_Timestamp]) VALUES (4, 6, NULL, N'IDERA Ace defeats Dr Deadlock', CAST(N'2020-05-19T00:00:00.000' AS DateTime))\r\n",
                "INSERT [dbo].[Good_Deed_History] ([Good_Deed_History_ID], [Good_Deed_Type_ID], [Good_Deed_Person_ID], [Good_Deed_Description], [Good_Deed_Timestamp]) VALUES (5, 2, NULL, N'Saved a bat', CAST(N'2020-05-20T00:00:00.000' AS DateTime))\r\n",
                "INSERT [dbo].[Good_Deed_History] ([Good_Deed_History_ID], [Good_Deed_Type_ID], [Good_Deed_Person_ID], [Good_Deed_Description], [Good_Deed_Timestamp]) VALUES (6, 4, 12, N'Helped Andy cross the road safely', CAST(N'2020-05-20T00:00:00.000' AS DateTime))\r\n",
                "INSERT [dbo].[Good_Deed_History] ([Good_Deed_History_ID], [Good_Deed_Type_ID], [Good_Deed_Person_ID], [Good_Deed_Description], [Good_Deed_Timestamp]) VALUES (7, 2, 5, N'Saved a cat from a bat', CAST(N'2020-05-20T00:00:00.000' AS DateTime))\r\n",
                "INSERT [dbo].[Good_Deed_History] ([Good_Deed_History_ID], [Good_Deed_Type_ID], [Good_Deed_Person_ID], [Good_Deed_Description], [Good_Deed_Timestamp]) VALUES (8, 4, 6, N'Consoled Peter over loss of Uncle Ben', CAST(N'2010-05-20T00:00:00.000' AS DateTime))\r\n",
                "INSERT [dbo].[Good_Deed_History] ([Good_Deed_History_ID], [Good_Deed_Type_ID], [Good_Deed_Person_ID], [Good_Deed_Description], [Good_Deed_Timestamp]) VALUES (9, 6, 12, N'IDERA Ace defeats Dr Deadlock', CAST(N'2020-05-19T00:00:00.000' AS DateTime))\r\n",
                "INSERT [dbo].[Good_Deed_History] ([Good_Deed_History_ID], [Good_Deed_Type_ID], [Good_Deed_Person_ID], [Good_Deed_Description], [Good_Deed_Timestamp]) VALUES (10, 2, 5, N'Saved a bat', CAST(N'2020-05-20T00:00:00.000' AS DateTime))\r\n",
                "INSERT [dbo].[Good_Deed_History] ([Good_Deed_History_ID], [Good_Deed_Type_ID], [Good_Deed_Person_ID], [Good_Deed_Description], [Good_Deed_Timestamp]) VALUES (11, 8, 14, N'All your base are belong to us', CAST(N'2020-07-01T00:00:00.000' AS DateTime))\r\n",
                "INSERT [dbo].[Good_Deed_History] ([Good_Deed_History_ID], [Good_Deed_Type_ID], [Good_Deed_Person_ID], [Good_Deed_Description], [Good_Deed_Timestamp]) VALUES (12, 8, 15, N'All your base are belong to us', CAST(N'2020-07-01T00:00:00.000' AS DateTime))\r\n",
                "INSERT [dbo].[Good_Deed_History] ([Good_Deed_History_ID], [Good_Deed_Type_ID], [Good_Deed_Person_ID], [Good_Deed_Description], [Good_Deed_Timestamp]) VALUES (13, 8, 16, N'All your base are belong to us', CAST(N'2020-07-01T00:00:00.000' AS DateTime))\r\n",
                "INSERT [dbo].[Good_Deed_History] ([Good_Deed_History_ID], [Good_Deed_Type_ID], [Good_Deed_Person_ID], [Good_Deed_Description], [Good_Deed_Timestamp]) VALUES (14, 8, 14, N'All your base are belong to us', CAST(N'2020-07-01T00:00:00.000' AS DateTime))\r\n",
                "INSERT [dbo].[Good_Deed_History] ([Good_Deed_History_ID], [Good_Deed_Type_ID], [Good_Deed_Person_ID], [Good_Deed_Description], [Good_Deed_Timestamp]) VALUES (15, 8, 15, N'All your base are belong to us', CAST(N'2020-07-01T00:00:00.000' AS DateTime))\r\n",
                "INSERT [dbo].[Good_Deed_History] ([Good_Deed_History_ID], [Good_Deed_Type_ID], [Good_Deed_Person_ID], [Good_Deed_Description], [Good_Deed_Timestamp]) VALUES (16, 8, 14, N'Hail Hydra', CAST(N'2020-06-15T00:00:00.000' AS DateTime))\r\n",
                "INSERT [dbo].[Good_Deed_History] ([Good_Deed_History_ID], [Good_Deed_Type_ID], [Good_Deed_Person_ID], [Good_Deed_Description], [Good_Deed_Timestamp]) VALUES (17, 8, 15, N'Hail Hydra', CAST(N'2020-06-15T00:00:00.000' AS DateTime))\r\n",
                "INSERT [dbo].[Good_Deed_History] ([Good_Deed_History_ID], [Good_Deed_Type_ID], [Good_Deed_Person_ID], [Good_Deed_Description], [Good_Deed_Timestamp]) VALUES (18, 8, 16, N'Hail Hydra', CAST(N'2020-06-15T00:00:00.000' AS DateTime))\r\n",
                "INSERT [dbo].[Good_Deed_History] ([Good_Deed_History_ID], [Good_Deed_Type_ID], [Good_Deed_Person_ID], [Good_Deed_Description], [Good_Deed_Timestamp]) VALUES (19, 3, 1, N'Stopped money laundering by Hydra', CAST(N'1950-01-01T00:00:00.000' AS DateTime))\r\n",
                "INSERT [dbo].[Good_Deed_History] ([Good_Deed_History_ID], [Good_Deed_Type_ID], [Good_Deed_Person_ID], [Good_Deed_Description], [Good_Deed_Timestamp]) VALUES (20, 5, 1, N'Foiled Hydra', CAST(N'1950-01-01T00:00:00.000' AS DateTime))\r\n",
                "INSERT [dbo].[Good_Deed_History] ([Good_Deed_History_ID], [Good_Deed_Type_ID], [Good_Deed_Person_ID], [Good_Deed_Description], [Good_Deed_Timestamp]) VALUES (21, 6, 1, N'Stopped band of Red Skull impersonators', CAST(N'1950-01-01T00:00:00.000' AS DateTime))\r\n",
                "SET IDENTITY_INSERT [dbo].[Good_Deed_History] OFF\r\n",
                "GO\r\n"
            ],
            "metadata": {
                "urn": "Server[@Name='SQLNotebooks']/Database[@Name='Superheroes']/Table[@Name='Good_Deed_History' and @Schema='dbo']",
                "object_type": "Table",
                "azdata_cell_guid": "964ae2d5-9a47-4fa7-913b-49e7cd0faa19"
            },
            "outputs": [],
            "execution_count": null
        },
        {
            "cell_type": "markdown",
            "source": [
                "# [dbo].[Good_Deed_Type]"
            ],
            "metadata": {
                "urn": "Server[@Name='SQLNotebooks']/Database[@Name='Superheroes']/Table[@Name='Good_Deed_Type' and @Schema='dbo']",
                "object_type": "Table",
                "azdata_cell_guid": "353048b8-b182-4243-98a6-e60149e74b8f"
            }
        },
        {
            "cell_type": "code",
            "source": [
                "SET IDENTITY_INSERT [dbo].[Good_Deed_Type] ON \r\n",
                "INSERT [dbo].[Good_Deed_Type] ([Good_Deed_Type_ID], [Good_Deed_Type_Name]) VALUES (2, N'Rescue animal')\r\n",
                "INSERT [dbo].[Good_Deed_Type] ([Good_Deed_Type_ID], [Good_Deed_Type_Name]) VALUES (3, N'Stop crime')\r\n",
                "INSERT [dbo].[Good_Deed_Type] ([Good_Deed_Type_ID], [Good_Deed_Type_Name]) VALUES (4, N'Help person')\r\n",
                "INSERT [dbo].[Good_Deed_Type] ([Good_Deed_Type_ID], [Good_Deed_Type_Name]) VALUES (5, N'Save city')\r\n",
                "INSERT [dbo].[Good_Deed_Type] ([Good_Deed_Type_ID], [Good_Deed_Type_Name]) VALUES (6, N'Defeat supervillan')\r\n",
                "INSERT [dbo].[Good_Deed_Type] ([Good_Deed_Type_ID], [Good_Deed_Type_Name]) VALUES (7, N'HeLp PeRsOn')\r\n",
                "INSERT [dbo].[Good_Deed_Type] ([Good_Deed_Type_ID], [Good_Deed_Type_Name]) VALUES (8, N'hElP pErSon')\r\n",
                "INSERT [dbo].[Good_Deed_Type] ([Good_Deed_Type_ID], [Good_Deed_Type_Name]) VALUES (9, N'Steal from poor, give to self')\r\n",
                "INSERT [dbo].[Good_Deed_Type] ([Good_Deed_Type_ID], [Good_Deed_Type_Name]) VALUES (10, N'Embarrass hero')\r\n",
                "INSERT [dbo].[Good_Deed_Type] ([Good_Deed_Type_ID], [Good_Deed_Type_Name]) VALUES (11, N'Dominate world')\r\n",
                "SET IDENTITY_INSERT [dbo].[Good_Deed_Type] OFF\r\n",
                "GO\r\n"
            ],
            "metadata": {
                "urn": "Server[@Name='SQLNotebooks']/Database[@Name='Superheroes']/Table[@Name='Good_Deed_Type' and @Schema='dbo']",
                "object_type": "Table",
                "azdata_cell_guid": "bbe8fcda-9aad-47df-b34a-bbe378f62968"
            },
            "outputs": [],
            "execution_count": null
        },
        {
            "cell_type": "markdown",
            "source": [
                "# [dbo].[Person]"
            ],
            "metadata": {
                "urn": "Server[@Name='SQLNotebooks']/Database[@Name='Superheroes']/Table[@Name='Person' and @Schema='dbo']",
                "object_type": "Table",
                "azdata_cell_guid": "faed9a37-69f2-41fe-b87a-b7bff452b448"
            }
        },
        {
            "cell_type": "code",
            "source": [
                "SET IDENTITY_INSERT [dbo].[Person] ON \r\n",
                "INSERT [dbo].[Person] ([Person_ID], [First_Name], [Last_Name]) VALUES (1, N'Peggy', N'Carter')\r\n",
                "INSERT [dbo].[Person] ([Person_ID], [First_Name], [Last_Name]) VALUES (3, N'Diana', N'Prince')\r\n",
                "INSERT [dbo].[Person] ([Person_ID], [First_Name], [Last_Name]) VALUES (4, N'Linda', N'Danvers')\r\n",
                "INSERT [dbo].[Person] ([Person_ID], [First_Name], [Last_Name]) VALUES (5, N'Selina', N'Kyle')\r\n",
                "INSERT [dbo].[Person] ([Person_ID], [First_Name], [Last_Name]) VALUES (6, N'May', N'Parker')\r\n",
                "INSERT [dbo].[Person] ([Person_ID], [First_Name], [Last_Name]) VALUES (7, N'Natasha', N'Romanoff')\r\n",
                "INSERT [dbo].[Person] ([Person_ID], [First_Name], [Last_Name]) VALUES (8, N'Ororo', N'Munroe')\r\n",
                "INSERT [dbo].[Person] ([Person_ID], [First_Name], [Last_Name]) VALUES (12, N'Deborah', N'Melkin')\r\n",
                "INSERT [dbo].[Person] ([Person_ID], [First_Name], [Last_Name]) VALUES (13, N'Doctor', N'Who')\r\n",
                "INSERT [dbo].[Person] ([Person_ID], [First_Name], [Last_Name]) VALUES (17, N'Doctor', N'Doom')\r\n",
                "INSERT [dbo].[Person] ([Person_ID], [First_Name], [Last_Name]) VALUES (18, N'Lex', N'Luthor')\r\n",
                "INSERT [dbo].[Person] ([Person_ID], [First_Name], [Last_Name]) VALUES (19, N'The', N'Master')\r\n",
                "SET IDENTITY_INSERT [dbo].[Person] OFF\r\n",
                "GO\r\n"
            ],
            "metadata": {
                "urn": "Server[@Name='SQLNotebooks']/Database[@Name='Superheroes']/Table[@Name='Person' and @Schema='dbo']",
                "object_type": "Table",
                "azdata_cell_guid": "0c94caae-540e-4947-ab68-759821fc97a2"
            },
            "outputs": [],
            "execution_count": null
        },
        {
            "cell_type": "markdown",
            "source": [
                "# [AK_Alter_Ego]"
            ],
            "metadata": {
                "urn": "Server[@Name='SQLNotebooks']/Database[@Name='Superheroes']/Table[@Name='Alter_Ego' and @Schema='dbo']/Index[@Name='AK_Alter_Ego']",
                "object_type": "Index",
                "azdata_cell_guid": "dee32e4d-ebd7-4878-84bb-3710c8e3b7bf"
            }
        },
        {
            "cell_type": "code",
            "source": [
                "SET ANSI_PADDING ON\r\nGO\r\n",
                "/****** Object:  Index [AK_Alter_Ego]    Script Date: 10/27/2020 10:40:40 AM ******/\r\nIF NOT EXISTS (SELECT * FROM sys.indexes WHERE object_id = OBJECT_ID(N'[dbo].[Alter_Ego]') AND name = N'AK_Alter_Ego')\r\nALTER TABLE [dbo].[Alter_Ego] ADD  CONSTRAINT [AK_Alter_Ego] UNIQUE NONCLUSTERED \r\n(\r\n\t[Alter_Ego_Name] ASC\r\n)WITH (PAD_INDEX = OFF, STATISTICS_NORECOMPUTE = OFF, SORT_IN_TEMPDB = OFF, IGNORE_DUP_KEY = OFF, ONLINE = OFF, ALLOW_ROW_LOCKS = ON, ALLOW_PAGE_LOCKS = ON, OPTIMIZE_FOR_SEQUENTIAL_KEY = OFF) ON [PRIMARY]\r\n",
                "GO\r\n"
            ],
            "metadata": {
                "urn": "Server[@Name='SQLNotebooks']/Database[@Name='Superheroes']/Table[@Name='Alter_Ego' and @Schema='dbo']/Index[@Name='AK_Alter_Ego']",
                "object_type": "Index",
                "azdata_cell_guid": "80ca6ce8-adab-4a3b-9333-eb748efead63"
            },
            "outputs": [],
            "execution_count": null
        },
        {
            "cell_type": "markdown",
            "source": [
                "# [FK_Alter_Ego_Comic_Universe]"
            ],
            "metadata": {
                "urn": "Server[@Name='SQLNotebooks']/Database[@Name='Superheroes']/Table[@Name='Alter_Ego' and @Schema='dbo']/Index[@Name='FK_Alter_Ego_Comic_Universe']",
                "object_type": "Index",
                "azdata_cell_guid": "8b37314c-6b6a-43f4-9345-ebf262d7ff23"
            }
        },
        {
            "cell_type": "code",
            "source": [
                "/****** Object:  Index [FK_Alter_Ego_Comic_Universe]    Script Date: 10/27/2020 10:40:40 AM ******/\r\nIF NOT EXISTS (SELECT * FROM sys.indexes WHERE object_id = OBJECT_ID(N'[dbo].[Alter_Ego]') AND name = N'FK_Alter_Ego_Comic_Universe')\r\nCREATE NONCLUSTERED INDEX [FK_Alter_Ego_Comic_Universe] ON [dbo].[Alter_Ego]\r\n(\r\n\t[Comic_Universe_ID] ASC\r\n)WITH (PAD_INDEX = OFF, STATISTICS_NORECOMPUTE = OFF, SORT_IN_TEMPDB = OFF, DROP_EXISTING = OFF, ONLINE = OFF, ALLOW_ROW_LOCKS = ON, ALLOW_PAGE_LOCKS = ON, OPTIMIZE_FOR_SEQUENTIAL_KEY = OFF) ON [PRIMARY]\r\n",
                "GO\r\n"
            ],
            "metadata": {
                "urn": "Server[@Name='SQLNotebooks']/Database[@Name='Superheroes']/Table[@Name='Alter_Ego' and @Schema='dbo']/Index[@Name='FK_Alter_Ego_Comic_Universe']",
                "object_type": "Index",
                "azdata_cell_guid": "6352982a-d45a-4e70-a2b6-6a6c9bccedb3"
            },
            "outputs": [],
            "execution_count": null
        },
        {
            "cell_type": "markdown",
            "source": [
                "# [UQ_Alter_Ego_Person]"
            ],
            "metadata": {
                "urn": "Server[@Name='SQLNotebooks']/Database[@Name='Superheroes']/Table[@Name='Alter_Ego_Person' and @Schema='dbo']/Index[@Name='UQ_Alter_Ego_Person']",
                "object_type": "Index",
                "azdata_cell_guid": "540ec68f-19ac-43c4-b623-92db387f3c64"
            }
        },
        {
            "cell_type": "code",
            "source": [
                "/****** Object:  Index [UQ_Alter_Ego_Person]    Script Date: 10/27/2020 10:40:40 AM ******/\r\nIF NOT EXISTS (SELECT * FROM sys.indexes WHERE object_id = OBJECT_ID(N'[dbo].[Alter_Ego_Person]') AND name = N'UQ_Alter_Ego_Person')\r\nALTER TABLE [dbo].[Alter_Ego_Person] ADD  CONSTRAINT [UQ_Alter_Ego_Person] UNIQUE NONCLUSTERED \r\n(\r\n\t[Person_ID] ASC,\r\n\t[Alter_Ego_ID] ASC\r\n)WITH (PAD_INDEX = OFF, STATISTICS_NORECOMPUTE = OFF, SORT_IN_TEMPDB = OFF, IGNORE_DUP_KEY = OFF, ONLINE = OFF, ALLOW_ROW_LOCKS = ON, ALLOW_PAGE_LOCKS = ON, OPTIMIZE_FOR_SEQUENTIAL_KEY = OFF) ON [PRIMARY]\r\n",
                "GO\r\n"
            ],
            "metadata": {
                "urn": "Server[@Name='SQLNotebooks']/Database[@Name='Superheroes']/Table[@Name='Alter_Ego_Person' and @Schema='dbo']/Index[@Name='UQ_Alter_Ego_Person']",
                "object_type": "Index",
                "azdata_cell_guid": "9d2b8f2b-a1fa-497d-beee-a43ffe9c468d"
            },
            "outputs": [],
            "execution_count": null
        },
        {
            "cell_type": "markdown",
            "source": [
                "# [IDX_Alter_Ego_Person_Alter_Ego_ID]"
            ],
            "metadata": {
                "urn": "Server[@Name='SQLNotebooks']/Database[@Name='Superheroes']/Table[@Name='Alter_Ego_Person' and @Schema='dbo']/Index[@Name='IDX_Alter_Ego_Person_Alter_Ego_ID']",
                "object_type": "Index",
                "azdata_cell_guid": "f0322e9b-1797-4a91-97da-4cfb426f7225"
            }
        },
        {
            "cell_type": "code",
            "source": [
                "/****** Object:  Index [IDX_Alter_Ego_Person_Alter_Ego_ID]    Script Date: 10/27/2020 10:40:40 AM ******/\r\nIF NOT EXISTS (SELECT * FROM sys.indexes WHERE object_id = OBJECT_ID(N'[dbo].[Alter_Ego_Person]') AND name = N'IDX_Alter_Ego_Person_Alter_Ego_ID')\r\nCREATE NONCLUSTERED INDEX [IDX_Alter_Ego_Person_Alter_Ego_ID] ON [dbo].[Alter_Ego_Person]\r\n(\r\n\t[Alter_Ego_ID] ASC\r\n)WITH (PAD_INDEX = OFF, STATISTICS_NORECOMPUTE = OFF, SORT_IN_TEMPDB = OFF, DROP_EXISTING = OFF, ONLINE = OFF, ALLOW_ROW_LOCKS = ON, ALLOW_PAGE_LOCKS = ON, OPTIMIZE_FOR_SEQUENTIAL_KEY = OFF) ON [PRIMARY]\r\n",
                "GO\r\n"
            ],
            "metadata": {
                "urn": "Server[@Name='SQLNotebooks']/Database[@Name='Superheroes']/Table[@Name='Alter_Ego_Person' and @Schema='dbo']/Index[@Name='IDX_Alter_Ego_Person_Alter_Ego_ID']",
                "object_type": "Index",
                "azdata_cell_guid": "ab47728a-0a92-4430-85da-095977446efb"
            },
            "outputs": [],
            "execution_count": null
        },
        {
            "cell_type": "markdown",
            "source": [
                "# [UQ_Alter_Ego_Person_History]"
            ],
            "metadata": {
                "urn": "Server[@Name='SQLNotebooks']/Database[@Name='Superheroes']/Table[@Name='Alter_Ego_Person_History' and @Schema='dbo']/Index[@Name='UQ_Alter_Ego_Person_History']",
                "object_type": "Index",
                "azdata_cell_guid": "21c4f68a-afec-46c8-80db-a0723e7f80b6"
            }
        },
        {
            "cell_type": "code",
            "source": [
                "SET ANSI_PADDING ON\r\nGO\r\n",
                "/****** Object:  Index [UQ_Alter_Ego_Person_History]    Script Date: 10/27/2020 10:40:40 AM ******/\r\nIF NOT EXISTS (SELECT * FROM sys.indexes WHERE object_id = OBJECT_ID(N'[dbo].[Alter_Ego_Person_History]') AND name = N'UQ_Alter_Ego_Person_History')\r\nALTER TABLE [dbo].[Alter_Ego_Person_History] ADD  CONSTRAINT [UQ_Alter_Ego_Person_History] UNIQUE NONCLUSTERED \r\n(\r\n\t[History_Date] ASC,\r\n\t[ChangeType] ASC,\r\n\t[Old_Alter_Ego_ID] ASC,\r\n\t[Old_Person_ID] ASC,\r\n\t[New_Alter_Ego_ID] ASC,\r\n\t[New_Person_ID] ASC\r\n)WITH (PAD_INDEX = OFF, STATISTICS_NORECOMPUTE = OFF, SORT_IN_TEMPDB = OFF, IGNORE_DUP_KEY = OFF, ONLINE = OFF, ALLOW_ROW_LOCKS = ON, ALLOW_PAGE_LOCKS = ON, OPTIMIZE_FOR_SEQUENTIAL_KEY = OFF) ON [PRIMARY]\r\n",
                "GO\r\n"
            ],
            "metadata": {
                "urn": "Server[@Name='SQLNotebooks']/Database[@Name='Superheroes']/Table[@Name='Alter_Ego_Person_History' and @Schema='dbo']/Index[@Name='UQ_Alter_Ego_Person_History']",
                "object_type": "Index",
                "azdata_cell_guid": "7d526393-3c1f-40a9-99f6-5481d62a1017"
            },
            "outputs": [],
            "execution_count": null
        },
        {
            "cell_type": "markdown",
            "source": [
                "# [AK_Comic_Universe]"
            ],
            "metadata": {
                "urn": "Server[@Name='SQLNotebooks']/Database[@Name='Superheroes']/Table[@Name='Comic_Universe' and @Schema='dbo']/Index[@Name='AK_Comic_Universe']",
                "object_type": "Index",
                "azdata_cell_guid": "6b8e75bc-efe2-4e56-a04c-edec493c7c6c"
            }
        },
        {
            "cell_type": "code",
            "source": [
                "SET ANSI_PADDING ON\r\nGO\r\n",
                "/****** Object:  Index [AK_Comic_Universe]    Script Date: 10/27/2020 10:40:40 AM ******/\r\nIF NOT EXISTS (SELECT * FROM sys.indexes WHERE object_id = OBJECT_ID(N'[dbo].[Comic_Universe]') AND name = N'AK_Comic_Universe')\r\nALTER TABLE [dbo].[Comic_Universe] ADD  CONSTRAINT [AK_Comic_Universe] UNIQUE NONCLUSTERED \r\n(\r\n\t[Comic_Universe_Name] ASC\r\n)WITH (PAD_INDEX = OFF, STATISTICS_NORECOMPUTE = OFF, SORT_IN_TEMPDB = OFF, IGNORE_DUP_KEY = OFF, ONLINE = OFF, ALLOW_ROW_LOCKS = ON, ALLOW_PAGE_LOCKS = ON, OPTIMIZE_FOR_SEQUENTIAL_KEY = OFF) ON [PRIMARY]\r\n",
                "GO\r\n"
            ],
            "metadata": {
                "urn": "Server[@Name='SQLNotebooks']/Database[@Name='Superheroes']/Table[@Name='Comic_Universe' and @Schema='dbo']/Index[@Name='AK_Comic_Universe']",
                "object_type": "Index",
                "azdata_cell_guid": "2903f5f1-4e61-4490-8c8c-3890452b817b"
            },
            "outputs": [],
            "execution_count": null
        },
        {
            "cell_type": "markdown",
            "source": [
                "# [AK_Corporation]"
            ],
            "metadata": {
                "urn": "Server[@Name='SQLNotebooks']/Database[@Name='Superheroes']/Table[@Name='Corporation' and @Schema='dbo']/Index[@Name='AK_Corporation']",
                "object_type": "Index",
                "azdata_cell_guid": "e2bfd67b-3f15-4b60-b7b9-f39a02d3e7a9"
            }
        },
        {
            "cell_type": "code",
            "source": [
                "SET ANSI_PADDING ON\r\nGO\r\n",
                "/****** Object:  Index [AK_Corporation]    Script Date: 10/27/2020 10:40:40 AM ******/\r\nIF NOT EXISTS (SELECT * FROM sys.indexes WHERE object_id = OBJECT_ID(N'[dbo].[Corporation]') AND name = N'AK_Corporation')\r\nALTER TABLE [dbo].[Corporation] ADD  CONSTRAINT [AK_Corporation] UNIQUE NONCLUSTERED \r\n(\r\n\t[Corporation_Name] ASC\r\n)WITH (PAD_INDEX = OFF, STATISTICS_NORECOMPUTE = OFF, SORT_IN_TEMPDB = OFF, IGNORE_DUP_KEY = OFF, ONLINE = OFF, ALLOW_ROW_LOCKS = ON, ALLOW_PAGE_LOCKS = ON, OPTIMIZE_FOR_SEQUENTIAL_KEY = OFF) ON [PRIMARY]\r\n",
                "GO\r\n"
            ],
            "metadata": {
                "urn": "Server[@Name='SQLNotebooks']/Database[@Name='Superheroes']/Table[@Name='Corporation' and @Schema='dbo']/Index[@Name='AK_Corporation']",
                "object_type": "Index",
                "azdata_cell_guid": "85e061d3-2d2d-449c-ab60-6b30fe88d1bd"
            },
            "outputs": [],
            "execution_count": null
        },
        {
            "cell_type": "markdown",
            "source": [
                "# [AK_Gadget]"
            ],
            "metadata": {
                "urn": "Server[@Name='SQLNotebooks']/Database[@Name='Superheroes']/Table[@Name='Gadget' and @Schema='dbo']/Index[@Name='AK_Gadget']",
                "object_type": "Index",
                "azdata_cell_guid": "b9e73607-17d6-4f64-aa41-a8cac204a657"
            }
        },
        {
            "cell_type": "code",
            "source": [
                "SET ANSI_PADDING ON\r\nGO\r\n",
                "/****** Object:  Index [AK_Gadget]    Script Date: 10/27/2020 10:40:40 AM ******/\r\nIF NOT EXISTS (SELECT * FROM sys.indexes WHERE object_id = OBJECT_ID(N'[dbo].[Gadget]') AND name = N'AK_Gadget')\r\nALTER TABLE [dbo].[Gadget] ADD  CONSTRAINT [AK_Gadget] UNIQUE NONCLUSTERED \r\n(\r\n\t[Gadget_Name] ASC\r\n)WITH (PAD_INDEX = OFF, STATISTICS_NORECOMPUTE = OFF, SORT_IN_TEMPDB = OFF, IGNORE_DUP_KEY = OFF, ONLINE = OFF, ALLOW_ROW_LOCKS = ON, ALLOW_PAGE_LOCKS = ON, OPTIMIZE_FOR_SEQUENTIAL_KEY = OFF) ON [PRIMARY]\r\n",
                "GO\r\n"
            ],
            "metadata": {
                "urn": "Server[@Name='SQLNotebooks']/Database[@Name='Superheroes']/Table[@Name='Gadget' and @Schema='dbo']/Index[@Name='AK_Gadget']",
                "object_type": "Index",
                "azdata_cell_guid": "3aa03d9b-fa76-4132-9649-5bf6f2f8cf5f"
            },
            "outputs": [],
            "execution_count": null
        },
        {
            "cell_type": "markdown",
            "source": [
                "# [UQ_Gadget_Order_Form]"
            ],
            "metadata": {
                "urn": "Server[@Name='SQLNotebooks']/Database[@Name='Superheroes']/Table[@Name='Gadget_Order_Form' and @Schema='dbo']/Index[@Name='UQ_Gadget_Order_Form']",
                "object_type": "Index",
                "azdata_cell_guid": "5ae67809-9b8d-46fc-b9c6-86f9148b90db"
            }
        },
        {
            "cell_type": "code",
            "source": [
                "/****** Object:  Index [UQ_Gadget_Order_Form]    Script Date: 10/27/2020 10:40:40 AM ******/\r\nIF NOT EXISTS (SELECT * FROM sys.indexes WHERE object_id = OBJECT_ID(N'[dbo].[Gadget_Order_Form]') AND name = N'UQ_Gadget_Order_Form')\r\nALTER TABLE [dbo].[Gadget_Order_Form] ADD  CONSTRAINT [UQ_Gadget_Order_Form] UNIQUE NONCLUSTERED \r\n(\r\n\t[Order_Date] ASC,\r\n\t[Person_ID] ASC,\r\n\t[Corporation_ID] ASC,\r\n\t[Gadget_ID] ASC\r\n)WITH (PAD_INDEX = OFF, STATISTICS_NORECOMPUTE = OFF, SORT_IN_TEMPDB = OFF, IGNORE_DUP_KEY = OFF, ONLINE = OFF, ALLOW_ROW_LOCKS = ON, ALLOW_PAGE_LOCKS = ON, OPTIMIZE_FOR_SEQUENTIAL_KEY = OFF) ON [PRIMARY]\r\n",
                "GO\r\n"
            ],
            "metadata": {
                "urn": "Server[@Name='SQLNotebooks']/Database[@Name='Superheroes']/Table[@Name='Gadget_Order_Form' and @Schema='dbo']/Index[@Name='UQ_Gadget_Order_Form']",
                "object_type": "Index",
                "azdata_cell_guid": "b3afe66a-c4b5-48d9-bcce-51e330571a5f"
            },
            "outputs": [],
            "execution_count": null
        },
        {
            "cell_type": "markdown",
            "source": [
                "# [IX_Gadget_Order_Form_Corporation]"
            ],
            "metadata": {
                "urn": "Server[@Name='SQLNotebooks']/Database[@Name='Superheroes']/Table[@Name='Gadget_Order_Form' and @Schema='dbo']/Index[@Name='IX_Gadget_Order_Form_Corporation']",
                "object_type": "Index",
                "azdata_cell_guid": "6c3db25f-415e-4745-ab21-7cffa42e0c46"
            }
        },
        {
            "cell_type": "code",
            "source": [
                "/****** Object:  Index [IX_Gadget_Order_Form_Corporation]    Script Date: 10/27/2020 10:40:40 AM ******/\r\nIF NOT EXISTS (SELECT * FROM sys.indexes WHERE object_id = OBJECT_ID(N'[dbo].[Gadget_Order_Form]') AND name = N'IX_Gadget_Order_Form_Corporation')\r\nCREATE NONCLUSTERED INDEX [IX_Gadget_Order_Form_Corporation] ON [dbo].[Gadget_Order_Form]\r\n(\r\n\t[Corporation_ID] ASC\r\n)WITH (PAD_INDEX = OFF, STATISTICS_NORECOMPUTE = OFF, SORT_IN_TEMPDB = OFF, DROP_EXISTING = OFF, ONLINE = OFF, ALLOW_ROW_LOCKS = ON, ALLOW_PAGE_LOCKS = ON, OPTIMIZE_FOR_SEQUENTIAL_KEY = OFF) ON [PRIMARY]\r\n",
                "GO\r\n"
            ],
            "metadata": {
                "urn": "Server[@Name='SQLNotebooks']/Database[@Name='Superheroes']/Table[@Name='Gadget_Order_Form' and @Schema='dbo']/Index[@Name='IX_Gadget_Order_Form_Corporation']",
                "object_type": "Index",
                "azdata_cell_guid": "2db8af15-3f14-4faa-99e6-4ec148bfadd6"
            },
            "outputs": [],
            "execution_count": null
        },
        {
            "cell_type": "markdown",
            "source": [
                "# [IX_Gadget_Order_Form_Gadget]"
            ],
            "metadata": {
                "urn": "Server[@Name='SQLNotebooks']/Database[@Name='Superheroes']/Table[@Name='Gadget_Order_Form' and @Schema='dbo']/Index[@Name='IX_Gadget_Order_Form_Gadget']",
                "object_type": "Index",
                "azdata_cell_guid": "fd93bdb0-ec0b-4527-940e-02553c28d3a3"
            }
        },
        {
            "cell_type": "code",
            "source": [
                "/****** Object:  Index [IX_Gadget_Order_Form_Gadget]    Script Date: 10/27/2020 10:40:40 AM ******/\r\nIF NOT EXISTS (SELECT * FROM sys.indexes WHERE object_id = OBJECT_ID(N'[dbo].[Gadget_Order_Form]') AND name = N'IX_Gadget_Order_Form_Gadget')\r\nCREATE NONCLUSTERED INDEX [IX_Gadget_Order_Form_Gadget] ON [dbo].[Gadget_Order_Form]\r\n(\r\n\t[Gadget_ID] ASC\r\n)WITH (PAD_INDEX = OFF, STATISTICS_NORECOMPUTE = OFF, SORT_IN_TEMPDB = OFF, DROP_EXISTING = OFF, ONLINE = OFF, ALLOW_ROW_LOCKS = ON, ALLOW_PAGE_LOCKS = ON, OPTIMIZE_FOR_SEQUENTIAL_KEY = OFF) ON [PRIMARY]\r\n",
                "GO\r\n"
            ],
            "metadata": {
                "urn": "Server[@Name='SQLNotebooks']/Database[@Name='Superheroes']/Table[@Name='Gadget_Order_Form' and @Schema='dbo']/Index[@Name='IX_Gadget_Order_Form_Gadget']",
                "object_type": "Index",
                "azdata_cell_guid": "60119b6f-a539-4f20-b695-2e3bd76d9f57"
            },
            "outputs": [],
            "execution_count": null
        },
        {
            "cell_type": "markdown",
            "source": [
                "# [IX_Gadget_Order_Form_Person]"
            ],
            "metadata": {
                "urn": "Server[@Name='SQLNotebooks']/Database[@Name='Superheroes']/Table[@Name='Gadget_Order_Form' and @Schema='dbo']/Index[@Name='IX_Gadget_Order_Form_Person']",
                "object_type": "Index",
                "azdata_cell_guid": "db518b3e-f652-468f-a34b-777b59fbd761"
            }
        },
        {
            "cell_type": "code",
            "source": [
                "/****** Object:  Index [IX_Gadget_Order_Form_Person]    Script Date: 10/27/2020 10:40:40 AM ******/\r\nIF NOT EXISTS (SELECT * FROM sys.indexes WHERE object_id = OBJECT_ID(N'[dbo].[Gadget_Order_Form]') AND name = N'IX_Gadget_Order_Form_Person')\r\nCREATE NONCLUSTERED INDEX [IX_Gadget_Order_Form_Person] ON [dbo].[Gadget_Order_Form]\r\n(\r\n\t[Person_ID] ASC\r\n)WITH (PAD_INDEX = OFF, STATISTICS_NORECOMPUTE = OFF, SORT_IN_TEMPDB = OFF, DROP_EXISTING = OFF, ONLINE = OFF, ALLOW_ROW_LOCKS = ON, ALLOW_PAGE_LOCKS = ON, OPTIMIZE_FOR_SEQUENTIAL_KEY = OFF) ON [PRIMARY]\r\n",
                "GO\r\n"
            ],
            "metadata": {
                "urn": "Server[@Name='SQLNotebooks']/Database[@Name='Superheroes']/Table[@Name='Gadget_Order_Form' and @Schema='dbo']/Index[@Name='IX_Gadget_Order_Form_Person']",
                "object_type": "Index",
                "azdata_cell_guid": "7ae52e49-2701-4cf2-a1af-8a2eb105d467"
            },
            "outputs": [],
            "execution_count": null
        },
        {
            "cell_type": "markdown",
            "source": [
                "# [DF_Alter_Ego_Person_Alter_Ego_ID]"
            ],
            "metadata": {
                "urn": "Server[@Name='SQLNotebooks']/Database[@Name='Superheroes']/Table[@Name='Alter_Ego_Person' and @Schema='dbo']/Column[@Name='Alter_Ego_ID']/Default[@Name='DF_Alter_Ego_Person_Alter_Ego_ID']",
                "object_type": "Default",
                "azdata_cell_guid": "87acf4f1-09c1-4b66-8fe0-73f708156753"
            }
        },
        {
            "cell_type": "code",
            "source": [
                "IF NOT EXISTS (SELECT * FROM sys.objects WHERE object_id = OBJECT_ID(N'[dbo].[DF_Alter_Ego_Person_Alter_Ego_ID]') AND type = 'D')\r\nBEGIN\r\nALTER TABLE [dbo].[Alter_Ego_Person] ADD  CONSTRAINT [DF_Alter_Ego_Person_Alter_Ego_ID]  DEFAULT ((1)) FOR [Alter_Ego_ID]\r\nEND\r\nGO\r\n"
            ],
            "metadata": {
                "urn": "Server[@Name='SQLNotebooks']/Database[@Name='Superheroes']/Table[@Name='Alter_Ego_Person' and @Schema='dbo']/Column[@Name='Alter_Ego_ID']/Default[@Name='DF_Alter_Ego_Person_Alter_Ego_ID']",
                "object_type": "Default",
                "azdata_cell_guid": "65134217-665e-462d-b643-d5734b1ea46b"
            },
            "outputs": [],
            "execution_count": null
        },
        {
            "cell_type": "markdown",
            "source": [
                "# [DF_Alter_Ego_Person_History_History_Date]"
            ],
            "metadata": {
                "urn": "Server[@Name='SQLNotebooks']/Database[@Name='Superheroes']/Table[@Name='Alter_Ego_Person_History' and @Schema='dbo']/Column[@Name='History_Date']/Default[@Name='DF_Alter_Ego_Person_History_History_Date']",
                "object_type": "Default",
                "azdata_cell_guid": "cd1ac72a-7914-41cb-bd79-1ed19555a63b"
            }
        },
        {
            "cell_type": "code",
            "source": [
                "IF NOT EXISTS (SELECT * FROM sys.objects WHERE object_id = OBJECT_ID(N'[dbo].[DF_Alter_Ego_Person_History_History_Date]') AND type = 'D')\r\nBEGIN\r\nALTER TABLE [dbo].[Alter_Ego_Person_History] ADD  CONSTRAINT [DF_Alter_Ego_Person_History_History_Date]  DEFAULT (getdate()) FOR [History_Date]\r\nEND\r\nGO\r\n"
            ],
            "metadata": {
                "urn": "Server[@Name='SQLNotebooks']/Database[@Name='Superheroes']/Table[@Name='Alter_Ego_Person_History' and @Schema='dbo']/Column[@Name='History_Date']/Default[@Name='DF_Alter_Ego_Person_History_History_Date']",
                "object_type": "Default",
                "azdata_cell_guid": "e7a43caa-c615-43c9-9423-15d7de5d1ed5"
            },
            "outputs": [],
            "execution_count": null
        },
        {
            "cell_type": "markdown",
            "source": [
                "# [DF__ETL_Error__Error__4D94879B]"
            ],
            "metadata": {
                "urn": "Server[@Name='SQLNotebooks']/Database[@Name='Superheroes']/Table[@Name='ETL_Error_Log' and @Schema='dbo']/Column[@Name='Error_Timestamp']/Default[@Name='DF__ETL_Error__Error__4D94879B']",
                "object_type": "Default",
                "azdata_cell_guid": "f7f0fcc0-17d0-459f-9944-da62486dff22"
            }
        },
        {
            "cell_type": "code",
            "source": [
                "IF NOT EXISTS (SELECT * FROM sys.objects WHERE object_id = OBJECT_ID(N'[dbo].[DF__ETL_Error__Error__4D94879B]') AND type = 'D')\r\nBEGIN\r\nALTER TABLE [dbo].[ETL_Error_Log] ADD  DEFAULT (getdate()) FOR [Error_Timestamp]\r\nEND\r\nGO\r\n"
            ],
            "metadata": {
                "urn": "Server[@Name='SQLNotebooks']/Database[@Name='Superheroes']/Table[@Name='ETL_Error_Log' and @Schema='dbo']/Column[@Name='Error_Timestamp']/Default[@Name='DF__ETL_Error__Error__4D94879B']",
                "object_type": "Default",
                "azdata_cell_guid": "cef85652-a731-428a-866e-40e2413cc1ba"
            },
            "outputs": [],
            "execution_count": null
        },
        {
            "cell_type": "markdown",
            "source": [
                "# [DF_Gadget_Order_Form_Order_Date]"
            ],
            "metadata": {
                "urn": "Server[@Name='SQLNotebooks']/Database[@Name='Superheroes']/Table[@Name='Gadget_Order_Form' and @Schema='dbo']/Column[@Name='Order_Date']/Default[@Name='DF_Gadget_Order_Form_Order_Date']",
                "object_type": "Default",
                "azdata_cell_guid": "12498eb6-5ed6-4a5b-8cf5-6d16084e65e6"
            }
        },
        {
            "cell_type": "code",
            "source": [
                "IF NOT EXISTS (SELECT * FROM sys.objects WHERE object_id = OBJECT_ID(N'[dbo].[DF_Gadget_Order_Form_Order_Date]') AND type = 'D')\r\nBEGIN\r\nALTER TABLE [dbo].[Gadget_Order_Form] ADD  CONSTRAINT [DF_Gadget_Order_Form_Order_Date]  DEFAULT (getdate()) FOR [Order_Date]\r\nEND\r\nGO\r\n"
            ],
            "metadata": {
                "urn": "Server[@Name='SQLNotebooks']/Database[@Name='Superheroes']/Table[@Name='Gadget_Order_Form' and @Schema='dbo']/Column[@Name='Order_Date']/Default[@Name='DF_Gadget_Order_Form_Order_Date']",
                "object_type": "Default",
                "azdata_cell_guid": "11929795-0986-4666-b34a-d878acafbe5f"
            },
            "outputs": [],
            "execution_count": null
        },
        {
            "cell_type": "markdown",
            "source": [
                "# [DF_Gadget_Order_Form_Price_Per_Item]"
            ],
            "metadata": {
                "urn": "Server[@Name='SQLNotebooks']/Database[@Name='Superheroes']/Table[@Name='Gadget_Order_Form' and @Schema='dbo']/Column[@Name='Price_Per_Item']/Default[@Name='DF_Gadget_Order_Form_Price_Per_Item']",
                "object_type": "Default",
                "azdata_cell_guid": "357b4157-f84a-43b3-b667-277d852c6468"
            }
        },
        {
            "cell_type": "code",
            "source": [
                "IF NOT EXISTS (SELECT * FROM sys.objects WHERE object_id = OBJECT_ID(N'[dbo].[DF_Gadget_Order_Form_Price_Per_Item]') AND type = 'D')\r\nBEGIN\r\nALTER TABLE [dbo].[Gadget_Order_Form] ADD  CONSTRAINT [DF_Gadget_Order_Form_Price_Per_Item]  DEFAULT ((0)) FOR [Price_Per_Item]\r\nEND\r\nGO\r\n"
            ],
            "metadata": {
                "urn": "Server[@Name='SQLNotebooks']/Database[@Name='Superheroes']/Table[@Name='Gadget_Order_Form' and @Schema='dbo']/Column[@Name='Price_Per_Item']/Default[@Name='DF_Gadget_Order_Form_Price_Per_Item']",
                "object_type": "Default",
                "azdata_cell_guid": "a50785ad-7cda-4800-a16f-bebfa9caf296"
            },
            "outputs": [],
            "execution_count": null
        },
        {
            "cell_type": "markdown",
            "source": [
                "# [DF_Gadget_Order_Form_Tax]"
            ],
            "metadata": {
                "urn": "Server[@Name='SQLNotebooks']/Database[@Name='Superheroes']/Table[@Name='Gadget_Order_Form' and @Schema='dbo']/Column[@Name='Tax']/Default[@Name='DF_Gadget_Order_Form_Tax']",
                "object_type": "Default",
                "azdata_cell_guid": "e79cb28f-455e-48bf-9a6b-a0288728e90a"
            }
        },
        {
            "cell_type": "code",
            "source": [
                "IF NOT EXISTS (SELECT * FROM sys.objects WHERE object_id = OBJECT_ID(N'[dbo].[DF_Gadget_Order_Form_Tax]') AND type = 'D')\r\nBEGIN\r\nALTER TABLE [dbo].[Gadget_Order_Form] ADD  CONSTRAINT [DF_Gadget_Order_Form_Tax]  DEFAULT ((0)) FOR [Tax]\r\nEND\r\nGO\r\n"
            ],
            "metadata": {
                "urn": "Server[@Name='SQLNotebooks']/Database[@Name='Superheroes']/Table[@Name='Gadget_Order_Form' and @Schema='dbo']/Column[@Name='Tax']/Default[@Name='DF_Gadget_Order_Form_Tax']",
                "object_type": "Default",
                "azdata_cell_guid": "9d56e201-8b46-44a8-87fc-a9e88aecf5ba"
            },
            "outputs": [],
            "execution_count": null
        },
        {
            "cell_type": "markdown",
            "source": [
                "# [DF_Gadget_Order_Form_Shipping]"
            ],
            "metadata": {
                "urn": "Server[@Name='SQLNotebooks']/Database[@Name='Superheroes']/Table[@Name='Gadget_Order_Form' and @Schema='dbo']/Column[@Name='Shipping']/Default[@Name='DF_Gadget_Order_Form_Shipping']",
                "object_type": "Default",
                "azdata_cell_guid": "41e97d5a-4f67-4ea6-b0bd-63eb58407594"
            }
        },
        {
            "cell_type": "code",
            "source": [
                "IF NOT EXISTS (SELECT * FROM sys.objects WHERE object_id = OBJECT_ID(N'[dbo].[DF_Gadget_Order_Form_Shipping]') AND type = 'D')\r\nBEGIN\r\nALTER TABLE [dbo].[Gadget_Order_Form] ADD  CONSTRAINT [DF_Gadget_Order_Form_Shipping]  DEFAULT ((0)) FOR [Shipping]\r\nEND\r\nGO\r\n"
            ],
            "metadata": {
                "urn": "Server[@Name='SQLNotebooks']/Database[@Name='Superheroes']/Table[@Name='Gadget_Order_Form' and @Schema='dbo']/Column[@Name='Shipping']/Default[@Name='DF_Gadget_Order_Form_Shipping']",
                "object_type": "Default",
                "azdata_cell_guid": "d7023867-1457-440e-8bc1-72133703f7b0"
            },
            "outputs": [],
            "execution_count": null
        },
        {
            "cell_type": "markdown",
            "source": [
                "# [DF_Gadget_Order_Form_TotalDue]"
            ],
            "metadata": {
                "urn": "Server[@Name='SQLNotebooks']/Database[@Name='Superheroes']/Table[@Name='Gadget_Order_Form' and @Schema='dbo']/Column[@Name='Total_Due']/Default[@Name='DF_Gadget_Order_Form_TotalDue']",
                "object_type": "Default",
                "azdata_cell_guid": "e97bd2cf-d41f-4a26-b49a-2d658195c023"
            }
        },
        {
            "cell_type": "code",
            "source": [
                "IF NOT EXISTS (SELECT * FROM sys.objects WHERE object_id = OBJECT_ID(N'[dbo].[DF_Gadget_Order_Form_TotalDue]') AND type = 'D')\r\nBEGIN\r\nALTER TABLE [dbo].[Gadget_Order_Form] ADD  CONSTRAINT [DF_Gadget_Order_Form_TotalDue]  DEFAULT ((0)) FOR [Total_Due]\r\nEND\r\nGO\r\n"
            ],
            "metadata": {
                "urn": "Server[@Name='SQLNotebooks']/Database[@Name='Superheroes']/Table[@Name='Gadget_Order_Form' and @Schema='dbo']/Column[@Name='Total_Due']/Default[@Name='DF_Gadget_Order_Form_TotalDue']",
                "object_type": "Default",
                "azdata_cell_guid": "afcdb823-7b91-4d6e-b7cd-6122b9fbd9f2"
            },
            "outputs": [],
            "execution_count": null
        },
        {
            "cell_type": "markdown",
            "source": [
                "# [DF__Good_Deed__Good___4AB81AF0]"
            ],
            "metadata": {
                "urn": "Server[@Name='SQLNotebooks']/Database[@Name='Superheroes']/Table[@Name='Good_Deed_History' and @Schema='dbo']/Column[@Name='Good_Deed_Timestamp']/Default[@Name='DF__Good_Deed__Good___4AB81AF0']",
                "object_type": "Default",
                "azdata_cell_guid": "5d363277-6805-4648-bb3c-ff47fa455509"
            }
        },
        {
            "cell_type": "code",
            "source": [
                "IF NOT EXISTS (SELECT * FROM sys.objects WHERE object_id = OBJECT_ID(N'[dbo].[DF__Good_Deed__Good___4AB81AF0]') AND type = 'D')\r\nBEGIN\r\nALTER TABLE [dbo].[Good_Deed_History] ADD  DEFAULT (getdate()) FOR [Good_Deed_Timestamp]\r\nEND\r\nGO\r\n"
            ],
            "metadata": {
                "urn": "Server[@Name='SQLNotebooks']/Database[@Name='Superheroes']/Table[@Name='Good_Deed_History' and @Schema='dbo']/Column[@Name='Good_Deed_Timestamp']/Default[@Name='DF__Good_Deed__Good___4AB81AF0']",
                "object_type": "Default",
                "azdata_cell_guid": "789fe2c7-c7ff-45b0-9fbf-ffdb6a3fa8d2"
            },
            "outputs": [],
            "execution_count": null
        },
        {
            "cell_type": "markdown",
            "source": [
                "# [FK_Alter_Ego_Comic_Universe]"
            ],
            "metadata": {
                "urn": "Server[@Name='SQLNotebooks']/Database[@Name='Superheroes']/Table[@Name='Alter_Ego' and @Schema='dbo']/ForeignKey[@Name='FK_Alter_Ego_Comic_Universe']",
                "object_type": "ForeignKey",
                "azdata_cell_guid": "e321c06e-33c2-43ff-86b3-b68c3f0aae67"
            }
        },
        {
            "cell_type": "code",
            "source": [
                "IF NOT EXISTS (SELECT * FROM sys.foreign_keys WHERE object_id = OBJECT_ID(N'[dbo].[FK_Alter_Ego_Comic_Universe]') AND parent_object_id = OBJECT_ID(N'[dbo].[Alter_Ego]'))\r\nALTER TABLE [dbo].[Alter_Ego]  WITH CHECK ADD  CONSTRAINT [FK_Alter_Ego_Comic_Universe] FOREIGN KEY([Comic_Universe_ID])\r\nREFERENCES [dbo].[Comic_Universe] ([Comic_Universe_ID])\r\n",
                "GO\r\n",
                "IF  EXISTS (SELECT * FROM sys.foreign_keys WHERE object_id = OBJECT_ID(N'[dbo].[FK_Alter_Ego_Comic_Universe]') AND parent_object_id = OBJECT_ID(N'[dbo].[Alter_Ego]'))\r\nALTER TABLE [dbo].[Alter_Ego] CHECK CONSTRAINT [FK_Alter_Ego_Comic_Universe]\r\n",
                "GO\r\n"
            ],
            "metadata": {
                "urn": "Server[@Name='SQLNotebooks']/Database[@Name='Superheroes']/Table[@Name='Alter_Ego' and @Schema='dbo']/ForeignKey[@Name='FK_Alter_Ego_Comic_Universe']",
                "object_type": "ForeignKey",
                "azdata_cell_guid": "a06fb7ac-10f3-4293-827e-1c9e37297cbe"
            },
            "outputs": [],
            "execution_count": null
        },
        {
            "cell_type": "markdown",
            "source": [
                "# [FK_Alter_Ego_Person_Person_ID]"
            ],
            "metadata": {
                "urn": "Server[@Name='SQLNotebooks']/Database[@Name='Superheroes']/Table[@Name='Alter_Ego_Person' and @Schema='dbo']/ForeignKey[@Name='FK_Alter_Ego_Person_Person_ID']",
                "object_type": "ForeignKey",
                "azdata_cell_guid": "7d725f2f-7164-4ace-afb4-42819c54c14b"
            }
        },
        {
            "cell_type": "code",
            "source": [
                "IF NOT EXISTS (SELECT * FROM sys.foreign_keys WHERE object_id = OBJECT_ID(N'[dbo].[FK_Alter_Ego_Person_Person_ID]') AND parent_object_id = OBJECT_ID(N'[dbo].[Alter_Ego_Person]'))\r\nALTER TABLE [dbo].[Alter_Ego_Person]  WITH CHECK ADD  CONSTRAINT [FK_Alter_Ego_Person_Person_ID] FOREIGN KEY([Person_ID])\r\nREFERENCES [dbo].[Person] ([Person_ID])\r\nON DELETE CASCADE\r\n",
                "GO\r\n",
                "IF  EXISTS (SELECT * FROM sys.foreign_keys WHERE object_id = OBJECT_ID(N'[dbo].[FK_Alter_Ego_Person_Person_ID]') AND parent_object_id = OBJECT_ID(N'[dbo].[Alter_Ego_Person]'))\r\nALTER TABLE [dbo].[Alter_Ego_Person] CHECK CONSTRAINT [FK_Alter_Ego_Person_Person_ID]\r\n",
                "GO\r\n"
            ],
            "metadata": {
                "urn": "Server[@Name='SQLNotebooks']/Database[@Name='Superheroes']/Table[@Name='Alter_Ego_Person' and @Schema='dbo']/ForeignKey[@Name='FK_Alter_Ego_Person_Person_ID']",
                "object_type": "ForeignKey",
                "azdata_cell_guid": "9b997a12-3c70-4ade-845c-00fb6773a127"
            },
            "outputs": [],
            "execution_count": null
        },
        {
            "cell_type": "markdown",
            "source": [
                "# [FK_Gadget_Order_Form_Corporation]"
            ],
            "metadata": {
                "urn": "Server[@Name='SQLNotebooks']/Database[@Name='Superheroes']/Table[@Name='Gadget_Order_Form' and @Schema='dbo']/ForeignKey[@Name='FK_Gadget_Order_Form_Corporation']",
                "object_type": "ForeignKey",
                "azdata_cell_guid": "c56143e2-5faa-44b1-bd9f-47bd9a72b03f"
            }
        },
        {
            "cell_type": "code",
            "source": [
                "IF NOT EXISTS (SELECT * FROM sys.foreign_keys WHERE object_id = OBJECT_ID(N'[dbo].[FK_Gadget_Order_Form_Corporation]') AND parent_object_id = OBJECT_ID(N'[dbo].[Gadget_Order_Form]'))\r\nALTER TABLE [dbo].[Gadget_Order_Form]  WITH CHECK ADD  CONSTRAINT [FK_Gadget_Order_Form_Corporation] FOREIGN KEY([Corporation_ID])\r\nREFERENCES [dbo].[Corporation] ([Corporation_ID])\r\n",
                "GO\r\n",
                "IF  EXISTS (SELECT * FROM sys.foreign_keys WHERE object_id = OBJECT_ID(N'[dbo].[FK_Gadget_Order_Form_Corporation]') AND parent_object_id = OBJECT_ID(N'[dbo].[Gadget_Order_Form]'))\r\nALTER TABLE [dbo].[Gadget_Order_Form] CHECK CONSTRAINT [FK_Gadget_Order_Form_Corporation]\r\n",
                "GO\r\n"
            ],
            "metadata": {
                "urn": "Server[@Name='SQLNotebooks']/Database[@Name='Superheroes']/Table[@Name='Gadget_Order_Form' and @Schema='dbo']/ForeignKey[@Name='FK_Gadget_Order_Form_Corporation']",
                "object_type": "ForeignKey",
                "azdata_cell_guid": "81fe7748-d0b0-4b59-a1b1-54f68141d833"
            },
            "outputs": [],
            "execution_count": null
        },
        {
            "cell_type": "markdown",
            "source": [
                "# [FK_Gadget_Order_Form_Gadget]"
            ],
            "metadata": {
                "urn": "Server[@Name='SQLNotebooks']/Database[@Name='Superheroes']/Table[@Name='Gadget_Order_Form' and @Schema='dbo']/ForeignKey[@Name='FK_Gadget_Order_Form_Gadget']",
                "object_type": "ForeignKey",
                "azdata_cell_guid": "b799822a-829f-4cbc-8ca6-dbff1968ab56"
            }
        },
        {
            "cell_type": "code",
            "source": [
                "IF NOT EXISTS (SELECT * FROM sys.foreign_keys WHERE object_id = OBJECT_ID(N'[dbo].[FK_Gadget_Order_Form_Gadget]') AND parent_object_id = OBJECT_ID(N'[dbo].[Gadget_Order_Form]'))\r\nALTER TABLE [dbo].[Gadget_Order_Form]  WITH CHECK ADD  CONSTRAINT [FK_Gadget_Order_Form_Gadget] FOREIGN KEY([Gadget_ID])\r\nREFERENCES [dbo].[Gadget] ([Gadget_ID])\r\n",
                "GO\r\n",
                "IF  EXISTS (SELECT * FROM sys.foreign_keys WHERE object_id = OBJECT_ID(N'[dbo].[FK_Gadget_Order_Form_Gadget]') AND parent_object_id = OBJECT_ID(N'[dbo].[Gadget_Order_Form]'))\r\nALTER TABLE [dbo].[Gadget_Order_Form] CHECK CONSTRAINT [FK_Gadget_Order_Form_Gadget]\r\n",
                "GO\r\n"
            ],
            "metadata": {
                "urn": "Server[@Name='SQLNotebooks']/Database[@Name='Superheroes']/Table[@Name='Gadget_Order_Form' and @Schema='dbo']/ForeignKey[@Name='FK_Gadget_Order_Form_Gadget']",
                "object_type": "ForeignKey",
                "azdata_cell_guid": "6bc61377-ffd3-4992-aaa6-64e9ae2ac806"
            },
            "outputs": [],
            "execution_count": null
        },
        {
            "cell_type": "markdown",
            "source": [
                "# [FK_Gadget_Order_Form_Person]"
            ],
            "metadata": {
                "urn": "Server[@Name='SQLNotebooks']/Database[@Name='Superheroes']/Table[@Name='Gadget_Order_Form' and @Schema='dbo']/ForeignKey[@Name='FK_Gadget_Order_Form_Person']",
                "object_type": "ForeignKey",
                "azdata_cell_guid": "55d644b0-0683-4283-b240-fa7bdd623467"
            }
        },
        {
            "cell_type": "code",
            "source": [
                "IF NOT EXISTS (SELECT * FROM sys.foreign_keys WHERE object_id = OBJECT_ID(N'[dbo].[FK_Gadget_Order_Form_Person]') AND parent_object_id = OBJECT_ID(N'[dbo].[Gadget_Order_Form]'))\r\nALTER TABLE [dbo].[Gadget_Order_Form]  WITH CHECK ADD  CONSTRAINT [FK_Gadget_Order_Form_Person] FOREIGN KEY([Person_ID])\r\nREFERENCES [dbo].[Person] ([Person_ID])\r\n",
                "GO\r\n",
                "IF  EXISTS (SELECT * FROM sys.foreign_keys WHERE object_id = OBJECT_ID(N'[dbo].[FK_Gadget_Order_Form_Person]') AND parent_object_id = OBJECT_ID(N'[dbo].[Gadget_Order_Form]'))\r\nALTER TABLE [dbo].[Gadget_Order_Form] CHECK CONSTRAINT [FK_Gadget_Order_Form_Person]\r\n",
                "GO\r\n"
            ],
            "metadata": {
                "urn": "Server[@Name='SQLNotebooks']/Database[@Name='Superheroes']/Table[@Name='Gadget_Order_Form' and @Schema='dbo']/ForeignKey[@Name='FK_Gadget_Order_Form_Person']",
                "object_type": "ForeignKey",
                "azdata_cell_guid": "8d4d6e4f-9df5-4f64-af8c-4a8824fceab0"
            },
            "outputs": [],
            "execution_count": null
        },
        {
            "cell_type": "markdown",
            "source": [
                "# [CK_Gadget_Order_Form_Number_Ordered]"
            ],
            "metadata": {
                "urn": "Server[@Name='SQLNotebooks']/Database[@Name='Superheroes']/Table[@Name='Gadget_Order_Form' and @Schema='dbo']/Check[@Name='CK_Gadget_Order_Form_Number_Ordered']",
                "object_type": "Check",
                "azdata_cell_guid": "0f9462f0-2db0-429c-b000-2ef16c23831b"
            }
        },
        {
            "cell_type": "code",
            "source": [
                "IF NOT EXISTS (SELECT * FROM sys.check_constraints WHERE object_id = OBJECT_ID(N'[dbo].[CK_Gadget_Order_Form_Number_Ordered]') AND parent_object_id = OBJECT_ID(N'[dbo].[Gadget_Order_Form]'))\r\nALTER TABLE [dbo].[Gadget_Order_Form]  WITH CHECK ADD  CONSTRAINT [CK_Gadget_Order_Form_Number_Ordered] CHECK  (([Number_Ordered]>=(0) AND [Number_Ordered]<(10000)))\r\n",
                "GO\r\n",
                "IF  EXISTS (SELECT * FROM sys.check_constraints WHERE object_id = OBJECT_ID(N'[dbo].[CK_Gadget_Order_Form_Number_Ordered]') AND parent_object_id = OBJECT_ID(N'[dbo].[Gadget_Order_Form]'))\r\nALTER TABLE [dbo].[Gadget_Order_Form] CHECK CONSTRAINT [CK_Gadget_Order_Form_Number_Ordered]\r\n",
                "GO\r\n"
            ],
            "metadata": {
                "urn": "Server[@Name='SQLNotebooks']/Database[@Name='Superheroes']/Table[@Name='Gadget_Order_Form' and @Schema='dbo']/Check[@Name='CK_Gadget_Order_Form_Number_Ordered']",
                "object_type": "Check",
                "azdata_cell_guid": "79b9fce3-c660-4ac6-85de-7987415b2098"
            },
            "outputs": [],
            "execution_count": null
        },
        {
            "cell_type": "markdown",
            "source": [
                "# [Person_itr]"
            ],
            "metadata": {
                "urn": "Server[@Name='SQLNotebooks']/Database[@Name='Superheroes']/Table[@Name='Person' and @Schema='dbo']/Trigger[@Name='Person_itr']",
                "object_type": "Trigger",
                "azdata_cell_guid": "a124e753-f355-4552-bc7e-ea7264cca7d7"
            }
        },
        {
            "cell_type": "code",
            "source": [
                "/****** Object:  Trigger [dbo].[Person_itr]    Script Date: 10/27/2020 10:40:40 AM ******/\r\nSET ANSI_NULLS ON\r\n",
                "GO\r\n",
                "SET QUOTED_IDENTIFIER ON\r\n",
                "GO\r\n",
                "IF NOT EXISTS (SELECT * FROM sys.triggers WHERE object_id = OBJECT_ID(N'[dbo].[Person_itr]'))\r\nEXEC dbo.sp_executesql @statement = N'\r\n-- Alter remaining trigger on Person\r\nCREATE   TRIGGER [dbo].[Person_itr] ON [dbo].[Person]\r\nFOR INSERT\r\nAS\r\nBEGIN\r\n\r\n\tINSERT INTO Alter_Ego_Person\r\n\tSELECT p.Person_ID, ae.Alter_Ego_ID\r\n\tFROM inserted as p\r\n\t\tCROSS JOIN Alter_Ego as ae\r\n\tWHERE ae.Alter_Ego_Name = ''Average Citizen''\r\n\t\r\nEND\r\n' \r\n",
                "GO\r\n",
                "ALTER TABLE [dbo].[Person] ENABLE TRIGGER [Person_itr]\r\n",
                "GO\r\n"
            ],
            "metadata": {
                "urn": "Server[@Name='SQLNotebooks']/Database[@Name='Superheroes']/Table[@Name='Person' and @Schema='dbo']/Trigger[@Name='Person_itr']",
                "object_type": "Trigger",
                "azdata_cell_guid": "4111111a-e116-436f-9778-2548c364f980"
            },
            "outputs": [],
            "execution_count": null
        }
    ]
}
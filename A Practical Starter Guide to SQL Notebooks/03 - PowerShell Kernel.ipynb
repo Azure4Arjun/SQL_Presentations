{
    "metadata": {
        "kernelspec": {
            "name": "powershell",
            "display_name": "PowerShell"
        },
        "language_info": {
            "name": "powershell",
            "codemirror_mode": "shell",
            "mimetype": "text/x-sh",
            "file_extension": ".ps1"
        }
    },
    "nbformat_minor": 2,
    "nbformat": 4,
    "cells": [
        {
            "cell_type": "markdown",
            "source": [
                "# Script to create sample database using the PowerShell Kernel.\r\n",
                "\r\n",
                "NOTE: Python needs to be installed in order to do the switch. You will get prompted if you need to add it. There are two steps to do it:\r\n",
                "\r\n",
                "Step 1:<br>\r\n",
                "<img alt=\"picture of screen 1\" src=\"C:\\GitRepo\\SQL_Presentations\\A Practical Starter Guide to SQL Notebooks\\images\\Python Install for Powershell Step 1.png\" height = 300/>\r\n",
                "\r\n",
                "Step 2:<br>\r\n",
                "<img alt=\"picture of screen 2\" src=\"C:\\GitRepo\\SQL_Presentations\\A Practical Starter Guide to SQL Notebooks\\images\\Python Install for Powershell Step 2.png\"  height = 300/>\r\n",
                "\r\n",
                "Also make sure that you have the latest sqlserver module installed from the PowerShell Gallery: \r\n",
                "    Install-Module -Name SqlServer"
            ],
            "metadata": {
                "azdata_cell_guid": "9da796d9-3f37-4da7-b8e9-cb83b4fc4cde"
            }
        },
        {
            "cell_type": "markdown",
            "source": [
                "Now let's get to work. Let's do some of the same tests that we did with the SQL cells. Start by declaring a variable."
            ],
            "metadata": {
                "azdata_cell_guid": "e4fbdc39-0a37-40de-8017-1303b58b00e9"
            }
        },
        {
            "cell_type": "code",
            "source": [
                "$testvariable = 'This is a test and only a test'"
            ],
            "metadata": {
                "azdata_cell_guid": "5941e1e1-8077-4a32-872b-36c33c43d931"
            },
            "outputs": [],
            "execution_count": null
        },
        {
            "cell_type": "markdown",
            "source": [
                "Let's see what's in our variable"
            ],
            "metadata": {
                "azdata_cell_guid": "b4943f36-85a4-4daa-87bf-f21328109fb1"
            }
        },
        {
            "cell_type": "code",
            "source": [
                "$testvariable"
            ],
            "metadata": {
                "azdata_cell_guid": "fd0a015e-892c-4c93-b578-19369744230c"
            },
            "outputs": [],
            "execution_count": null
        },
        {
            "cell_type": "markdown",
            "source": [
                "This is where we start remembering that Powershell treats variables differently than SQL Batches. "
            ],
            "metadata": {
                "azdata_cell_guid": "787645da-39f2-4676-a2da-6e0fa52029dd"
            }
        },
        {
            "cell_type": "markdown",
            "source": [
                "## Changing Kernels\r\n",
                "\r\n",
                "What happens if I change the Kernel to SQL midway? Let's find out by first running the cell itself and then clicking the Run all at the top."
            ],
            "metadata": {
                "azdata_cell_guid": "a3cb6a66-1a9b-4725-a240-f33d7c7b0160"
            }
        },
        {
            "cell_type": "code",
            "source": [
                "SELECT 'Now can we run SQL?'"
            ],
            "metadata": {
                "azdata_cell_guid": "778ed050-7f30-4c4e-b621-c568f48b808c"
            },
            "outputs": [],
            "execution_count": null
        },
        {
            "cell_type": "markdown",
            "source": [
                "## PowerShell Version\n",
                "\n",
                "What version of PowerShell are we running from our kernel?"
            ],
            "metadata": {
                "azdata_cell_guid": "61290ba4-6d60-4288-927d-4ba2934cf6d7"
            }
        },
        {
            "cell_type": "code",
            "source": [
                "$PSVersionTable"
            ],
            "metadata": {
                "azdata_cell_guid": "53dc9fc3-2af0-404b-ae19-93ac0da07c49"
            },
            "outputs": [],
            "execution_count": null
        },
        {
            "cell_type": "markdown",
            "source": [
                "## PowerShell Privileges\r\n",
                "\r\n",
                "What privileges am I running PowerShell under in ADS? Because it matters, depending on what you want to do.\r\n",
                "\r\n",
                "Let's start by running this code that I found [somewhere on the interwebs.](https://serverfault.com/a/97599)"
            ],
            "metadata": {
                "azdata_cell_guid": "e8f3dc14-ea99-44a9-be90-1226f4410931"
            }
        },
        {
            "cell_type": "code",
            "source": [
                "function Test-Administrator\r\n",
                " {\r\n",
                "     $user = [Security.Principal.WindowsIdentity]::GetCurrent();\r\n",
                "     (New-Object Security.Principal.WindowsPrincipal $user).IsInRole([Security.Principal.WindowsBuiltinRole]::Administrator)\r\n",
                " }"
            ],
            "metadata": {
                "azdata_cell_guid": "29a876fe-376c-432d-b160-565fdbc901bf",
                "tags": []
            },
            "outputs": [],
            "execution_count": null
        },
        {
            "cell_type": "markdown",
            "source": [
                "Now to run the test...."
            ],
            "metadata": {
                "azdata_cell_guid": "a1ff028d-c3db-4232-a59f-91c3a76c1db1"
            }
        },
        {
            "cell_type": "code",
            "source": [
                "Test-Administrator"
            ],
            "metadata": {
                "azdata_cell_guid": "5af622fc-9fd4-4926-a14b-16ce5e8c5267"
            },
            "outputs": [],
            "execution_count": null
        },
        {
            "cell_type": "markdown",
            "source": [
                "What happens if Azure Data Studio is running a Administrator? \n",
                "\n",
                "Open up a new instance of Azure Data Studio as an Admin and run the same test."
            ],
            "metadata": {
                "azdata_cell_guid": "856b00d6-ae70-4675-9bb2-9fc19185431e"
            }
        }
    ]
}